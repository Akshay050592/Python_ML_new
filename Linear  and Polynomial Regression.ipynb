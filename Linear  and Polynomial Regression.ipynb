{
 "cells": [
  {
   "cell_type": "markdown",
   "metadata": {},
   "source": [
    "# Linear Regression"
   ]
  },
  {
   "cell_type": "code",
   "execution_count": 1,
   "metadata": {},
   "outputs": [],
   "source": [
    "import pandas as pd\n",
    "import numpy as np\n",
    "import matplotlib.pyplot as plt\n",
    "import seaborn as sns\n",
    "\n",
    "from sklearn.linear_model import LinearRegression\n",
    "from sklearn.model_selection import train_test_split\n",
    "\n",
    "from sklearn.metrics import mean_squared_error\n",
    "from sklearn.metrics import r2_score\n",
    "\n",
    "import warnings\n",
    "warnings.filterwarnings('ignore')"
   ]
  },
  {
   "cell_type": "code",
   "execution_count": 2,
   "metadata": {},
   "outputs": [],
   "source": [
    "df = pd.read_csv(\"advertising.csv\")"
   ]
  },
  {
   "cell_type": "code",
   "execution_count": 3,
   "metadata": {},
   "outputs": [
    {
     "data": {
      "text/html": [
       "<div>\n",
       "<style scoped>\n",
       "    .dataframe tbody tr th:only-of-type {\n",
       "        vertical-align: middle;\n",
       "    }\n",
       "\n",
       "    .dataframe tbody tr th {\n",
       "        vertical-align: top;\n",
       "    }\n",
       "\n",
       "    .dataframe thead th {\n",
       "        text-align: right;\n",
       "    }\n",
       "</style>\n",
       "<table border=\"1\" class=\"dataframe\">\n",
       "  <thead>\n",
       "    <tr style=\"text-align: right;\">\n",
       "      <th></th>\n",
       "      <th>Unnamed: 0</th>\n",
       "      <th>TV</th>\n",
       "      <th>radio</th>\n",
       "      <th>newspaper</th>\n",
       "      <th>sales</th>\n",
       "    </tr>\n",
       "  </thead>\n",
       "  <tbody>\n",
       "    <tr>\n",
       "      <th>0</th>\n",
       "      <td>1</td>\n",
       "      <td>230.1</td>\n",
       "      <td>37.8</td>\n",
       "      <td>69.2</td>\n",
       "      <td>22.1</td>\n",
       "    </tr>\n",
       "    <tr>\n",
       "      <th>1</th>\n",
       "      <td>2</td>\n",
       "      <td>44.5</td>\n",
       "      <td>39.3</td>\n",
       "      <td>45.1</td>\n",
       "      <td>10.4</td>\n",
       "    </tr>\n",
       "    <tr>\n",
       "      <th>2</th>\n",
       "      <td>3</td>\n",
       "      <td>17.2</td>\n",
       "      <td>45.9</td>\n",
       "      <td>69.3</td>\n",
       "      <td>9.3</td>\n",
       "    </tr>\n",
       "    <tr>\n",
       "      <th>3</th>\n",
       "      <td>4</td>\n",
       "      <td>151.5</td>\n",
       "      <td>41.3</td>\n",
       "      <td>58.5</td>\n",
       "      <td>18.5</td>\n",
       "    </tr>\n",
       "    <tr>\n",
       "      <th>4</th>\n",
       "      <td>5</td>\n",
       "      <td>180.8</td>\n",
       "      <td>10.8</td>\n",
       "      <td>58.4</td>\n",
       "      <td>12.9</td>\n",
       "    </tr>\n",
       "  </tbody>\n",
       "</table>\n",
       "</div>"
      ],
      "text/plain": [
       "   Unnamed: 0     TV  radio  newspaper  sales\n",
       "0           1  230.1   37.8       69.2   22.1\n",
       "1           2   44.5   39.3       45.1   10.4\n",
       "2           3   17.2   45.9       69.3    9.3\n",
       "3           4  151.5   41.3       58.5   18.5\n",
       "4           5  180.8   10.8       58.4   12.9"
      ]
     },
     "execution_count": 3,
     "metadata": {},
     "output_type": "execute_result"
    }
   ],
   "source": [
    "df.head()"
   ]
  },
  {
   "cell_type": "code",
   "execution_count": 4,
   "metadata": {},
   "outputs": [],
   "source": [
    "df.drop(\"Unnamed: 0\",axis=1,inplace=True)"
   ]
  },
  {
   "cell_type": "code",
   "execution_count": 5,
   "metadata": {},
   "outputs": [
    {
     "data": {
      "text/html": [
       "<div>\n",
       "<style scoped>\n",
       "    .dataframe tbody tr th:only-of-type {\n",
       "        vertical-align: middle;\n",
       "    }\n",
       "\n",
       "    .dataframe tbody tr th {\n",
       "        vertical-align: top;\n",
       "    }\n",
       "\n",
       "    .dataframe thead th {\n",
       "        text-align: right;\n",
       "    }\n",
       "</style>\n",
       "<table border=\"1\" class=\"dataframe\">\n",
       "  <thead>\n",
       "    <tr style=\"text-align: right;\">\n",
       "      <th></th>\n",
       "      <th>TV</th>\n",
       "      <th>radio</th>\n",
       "      <th>newspaper</th>\n",
       "      <th>sales</th>\n",
       "    </tr>\n",
       "  </thead>\n",
       "  <tbody>\n",
       "    <tr>\n",
       "      <th>0</th>\n",
       "      <td>230.1</td>\n",
       "      <td>37.8</td>\n",
       "      <td>69.2</td>\n",
       "      <td>22.1</td>\n",
       "    </tr>\n",
       "    <tr>\n",
       "      <th>1</th>\n",
       "      <td>44.5</td>\n",
       "      <td>39.3</td>\n",
       "      <td>45.1</td>\n",
       "      <td>10.4</td>\n",
       "    </tr>\n",
       "    <tr>\n",
       "      <th>2</th>\n",
       "      <td>17.2</td>\n",
       "      <td>45.9</td>\n",
       "      <td>69.3</td>\n",
       "      <td>9.3</td>\n",
       "    </tr>\n",
       "    <tr>\n",
       "      <th>3</th>\n",
       "      <td>151.5</td>\n",
       "      <td>41.3</td>\n",
       "      <td>58.5</td>\n",
       "      <td>18.5</td>\n",
       "    </tr>\n",
       "    <tr>\n",
       "      <th>4</th>\n",
       "      <td>180.8</td>\n",
       "      <td>10.8</td>\n",
       "      <td>58.4</td>\n",
       "      <td>12.9</td>\n",
       "    </tr>\n",
       "  </tbody>\n",
       "</table>\n",
       "</div>"
      ],
      "text/plain": [
       "      TV  radio  newspaper  sales\n",
       "0  230.1   37.8       69.2   22.1\n",
       "1   44.5   39.3       45.1   10.4\n",
       "2   17.2   45.9       69.3    9.3\n",
       "3  151.5   41.3       58.5   18.5\n",
       "4  180.8   10.8       58.4   12.9"
      ]
     },
     "execution_count": 5,
     "metadata": {},
     "output_type": "execute_result"
    }
   ],
   "source": [
    "df.head()"
   ]
  },
  {
   "cell_type": "code",
   "execution_count": 6,
   "metadata": {},
   "outputs": [
    {
     "data": {
      "image/png": "[encoded data removed]",
      "text/plain": [
       "<Figure size 432x288 with 1 Axes>"
      ]
     },
     "metadata": {
      "needs_background": "light"
     },
     "output_type": "display_data"
    }
   ],
   "source": [
    "plt.figure()\n",
    "sns.scatterplot(data=df,x=\"TV\", y=\"sales\")\n",
    "plt.show()"
   ]
  },
  {
   "cell_type": "code",
   "execution_count": 7,
   "metadata": {},
   "outputs": [
    {
     "data": {
      "image/png": "[encoded data removed]",
      "text/plain": [
       "<Figure size 432x288 with 1 Axes>"
      ]
     },
     "metadata": {
      "needs_background": "light"
     },
     "output_type": "display_data"
    }
   ],
   "source": [
    "plt.figure()\n",
    "sns.scatterplot(data=df,x=\"radio\", y=\"sales\")\n",
    "plt.show()"
   ]
  },
  {
   "cell_type": "code",
   "execution_count": 8,
   "metadata": {},
   "outputs": [
    {
     "data": {
      "image/png": "[encoded data removed]",
      "text/plain": [
       "<Figure size 432x288 with 1 Axes>"
      ]
     },
     "metadata": {
      "needs_background": "light"
     },
     "output_type": "display_data"
    }
   ],
   "source": [
    "plt.figure()\n",
    "sns.scatterplot(data=df,x=\"newspaper\", y=\"sales\")\n",
    "plt.show()"
   ]
  },
  {
   "cell_type": "code",
   "execution_count": 9,
   "metadata": {},
   "outputs": [],
   "source": [
    "cor = df.corr()"
   ]
  },
  {
   "cell_type": "code",
   "execution_count": 10,
   "metadata": {},
   "outputs": [
    {
     "data": {
      "text/html": [
       "<div>\n",
       "<style scoped>\n",
       "    .dataframe tbody tr th:only-of-type {\n",
       "        vertical-align: middle;\n",
       "    }\n",
       "\n",
       "    .dataframe tbody tr th {\n",
       "        vertical-align: top;\n",
       "    }\n",
       "\n",
       "    .dataframe thead th {\n",
       "        text-align: right;\n",
       "    }\n",
       "</style>\n",
       "<table border=\"1\" class=\"dataframe\">\n",
       "  <thead>\n",
       "    <tr style=\"text-align: right;\">\n",
       "      <th></th>\n",
       "      <th>TV</th>\n",
       "      <th>radio</th>\n",
       "      <th>newspaper</th>\n",
       "      <th>sales</th>\n",
       "    </tr>\n",
       "  </thead>\n",
       "  <tbody>\n",
       "    <tr>\n",
       "      <th>TV</th>\n",
       "      <td>1.000000</td>\n",
       "      <td>0.054809</td>\n",
       "      <td>0.056648</td>\n",
       "      <td>0.782224</td>\n",
       "    </tr>\n",
       "    <tr>\n",
       "      <th>radio</th>\n",
       "      <td>0.054809</td>\n",
       "      <td>1.000000</td>\n",
       "      <td>0.354104</td>\n",
       "      <td>0.576223</td>\n",
       "    </tr>\n",
       "    <tr>\n",
       "      <th>newspaper</th>\n",
       "      <td>0.056648</td>\n",
       "      <td>0.354104</td>\n",
       "      <td>1.000000</td>\n",
       "      <td>0.228299</td>\n",
       "    </tr>\n",
       "    <tr>\n",
       "      <th>sales</th>\n",
       "      <td>0.782224</td>\n",
       "      <td>0.576223</td>\n",
       "      <td>0.228299</td>\n",
       "      <td>1.000000</td>\n",
       "    </tr>\n",
       "  </tbody>\n",
       "</table>\n",
       "</div>"
      ],
      "text/plain": [
       "                 TV     radio  newspaper     sales\n",
       "TV         1.000000  0.054809   0.056648  0.782224\n",
       "radio      0.054809  1.000000   0.354104  0.576223\n",
       "newspaper  0.056648  0.354104   1.000000  0.228299\n",
       "sales      0.782224  0.576223   0.228299  1.000000"
      ]
     },
     "execution_count": 10,
     "metadata": {},
     "output_type": "execute_result"
    }
   ],
   "source": [
    "cor"
   ]
  },
  {
   "cell_type": "code",
   "execution_count": 11,
   "metadata": {},
   "outputs": [
    {
     "data": {
      "image/png": "[encoded data removed]",
      "text/plain": [
       "<Figure size 432x288 with 2 Axes>"
      ]
     },
     "metadata": {
      "needs_background": "light"
     },
     "output_type": "display_data"
    }
   ],
   "source": [
    "plt.figure()\n",
    "sns.heatmap(cor,annot=True)\n",
    "plt.show()"
   ]
  },
  {
   "cell_type": "markdown",
   "metadata": {},
   "source": [
    "## Modeling with TV"
   ]
  },
  {
   "cell_type": "code",
   "execution_count": 12,
   "metadata": {},
   "outputs": [],
   "source": [
    "X = df[[\"TV\"]]\n",
    "y = df[\"sales\"]"
   ]
  },
  {
   "cell_type": "markdown",
   "metadata": {},
   "source": [
    "### split data for train and test"
   ]
  },
  {
   "cell_type": "code",
   "execution_count": 13,
   "metadata": {},
   "outputs": [],
   "source": [
    "X_train, X_test, y_train, y_test = train_test_split(X,y,random_state=1,test_size=0.3)"
   ]
  },
  {
   "cell_type": "markdown",
   "metadata": {},
   "source": [
    "### Training"
   ]
  },
  {
   "cell_type": "code",
   "execution_count": 14,
   "metadata": {},
   "outputs": [],
   "source": [
    "lr = LinearRegression()"
   ]
  },
  {
   "cell_type": "code",
   "execution_count": 15,
   "metadata": {},
   "outputs": [
    {
     "data": {
      "text/plain": [
       "LinearRegression(copy_X=True, fit_intercept=True, n_jobs=None, normalize=False)"
      ]
     },
     "execution_count": 15,
     "metadata": {},
     "output_type": "execute_result"
    }
   ],
   "source": [
    "lr.fit(X_train,y_train)"
   ]
  },
  {
   "cell_type": "code",
   "execution_count": 16,
   "metadata": {},
   "outputs": [
    {
     "data": {
      "text/plain": [
       "6.923519536059554"
      ]
     },
     "execution_count": 16,
     "metadata": {},
     "output_type": "execute_result"
    }
   ],
   "source": [
    "lr.intercept_"
   ]
  },
  {
   "cell_type": "code",
   "execution_count": 17,
   "metadata": {},
   "outputs": [
    {
     "data": {
      "text/plain": [
       "array([0.04812204])"
      ]
     },
     "execution_count": 17,
     "metadata": {},
     "output_type": "execute_result"
    }
   ],
   "source": [
    "lr.coef_"
   ]
  },
  {
   "cell_type": "markdown",
   "metadata": {},
   "source": [
    "### Testing"
   ]
  },
  {
   "cell_type": "code",
   "execution_count": 18,
   "metadata": {},
   "outputs": [],
   "source": [
    "y_pred = lr.predict(X_test)"
   ]
  },
  {
   "cell_type": "code",
   "execution_count": 19,
   "metadata": {},
   "outputs": [
    {
     "data": {
      "text/plain": [
       "10.571057434656955"
      ]
     },
     "execution_count": 19,
     "metadata": {},
     "output_type": "execute_result"
    }
   ],
   "source": [
    "mean_squared_error(y_test,y_pred)"
   ]
  },
  {
   "cell_type": "code",
   "execution_count": 20,
   "metadata": {},
   "outputs": [
    {
     "data": {
      "text/plain": [
       "0.575061860494331"
      ]
     },
     "execution_count": 20,
     "metadata": {},
     "output_type": "execute_result"
    }
   ],
   "source": [
    "r2_score(y_test,y_pred)"
   ]
  },
  {
   "cell_type": "code",
   "execution_count": 21,
   "metadata": {},
   "outputs": [
    {
     "data": {
      "image/png": "[encoded data removed]",
      "text/plain": [
       "<Figure size 504x504 with 1 Axes>"
      ]
     },
     "metadata": {
      "needs_background": "light"
     },
     "output_type": "display_data"
    }
   ],
   "source": [
    "plt.figure(figsize=(7,7))\n",
    "sns.scatterplot(data=df,x=\"TV\", y=\"sales\")\n",
    "plt.plot(X_test[\"TV\"],y_pred)\n",
    "plt.show()"
   ]
  },
  {
   "cell_type": "markdown",
   "metadata": {},
   "source": [
    "## Modeling with Radio"
   ]
  },
  {
   "cell_type": "code",
   "execution_count": 22,
   "metadata": {},
   "outputs": [],
   "source": [
    "X = df[[\"radio\"]]\n",
    "y = df[\"sales\"]"
   ]
  },
  {
   "cell_type": "code",
   "execution_count": 23,
   "metadata": {},
   "outputs": [],
   "source": [
    "X_train, X_test, y_train, y_test = train_test_split(X,y,random_state=1,test_size=0.3)"
   ]
  },
  {
   "cell_type": "code",
   "execution_count": 24,
   "metadata": {},
   "outputs": [
    {
     "data": {
      "text/plain": [
       "LinearRegression(copy_X=True, fit_intercept=True, n_jobs=None, normalize=False)"
      ]
     },
     "execution_count": 24,
     "metadata": {},
     "output_type": "execute_result"
    }
   ],
   "source": [
    "lr = LinearRegression()\n",
    "lr.fit(X_train,y_train)"
   ]
  },
  {
   "cell_type": "code",
   "execution_count": 25,
   "metadata": {},
   "outputs": [
    {
     "data": {
      "text/plain": [
       "9.440936561425886"
      ]
     },
     "execution_count": 25,
     "metadata": {},
     "output_type": "execute_result"
    }
   ],
   "source": [
    "lr.intercept_"
   ]
  },
  {
   "cell_type": "code",
   "execution_count": 26,
   "metadata": {},
   "outputs": [
    {
     "data": {
      "text/plain": [
       "array([0.1874808])"
      ]
     },
     "execution_count": 26,
     "metadata": {},
     "output_type": "execute_result"
    }
   ],
   "source": [
    "lr.coef_"
   ]
  },
  {
   "cell_type": "code",
   "execution_count": 27,
   "metadata": {},
   "outputs": [],
   "source": [
    "y_pred = lr.predict(X_test)"
   ]
  },
  {
   "cell_type": "code",
   "execution_count": 28,
   "metadata": {},
   "outputs": [
    {
     "data": {
      "text/plain": [
       "14.604130559272193"
      ]
     },
     "execution_count": 28,
     "metadata": {},
     "output_type": "execute_result"
    }
   ],
   "source": [
    "mean_squared_error(y_test,y_pred)"
   ]
  },
  {
   "cell_type": "code",
   "execution_count": 29,
   "metadata": {},
   "outputs": [
    {
     "data": {
      "text/plain": [
       "0.41293932917162335"
      ]
     },
     "execution_count": 29,
     "metadata": {},
     "output_type": "execute_result"
    }
   ],
   "source": [
    "r2_score(y_test,y_pred)"
   ]
  },
  {
   "cell_type": "markdown",
   "metadata": {},
   "source": [
    "## Modeling with Newspaper"
   ]
  },
  {
   "cell_type": "code",
   "execution_count": 30,
   "metadata": {},
   "outputs": [],
   "source": [
    "X = df[[\"newspaper\"]]\n",
    "y = df[\"sales\"]"
   ]
  },
  {
   "cell_type": "code",
   "execution_count": 31,
   "metadata": {},
   "outputs": [],
   "source": [
    "X_train, X_test, y_train, y_test = train_test_split(X,y,random_state=1,test_size=0.3)"
   ]
  },
  {
   "cell_type": "code",
   "execution_count": 32,
   "metadata": {},
   "outputs": [
    {
     "data": {
      "text/plain": [
       "LinearRegression(copy_X=True, fit_intercept=True, n_jobs=None, normalize=False)"
      ]
     },
     "execution_count": 32,
     "metadata": {},
     "output_type": "execute_result"
    }
   ],
   "source": [
    "lr = LinearRegression()\n",
    "lr.fit(X_train,y_train)"
   ]
  },
  {
   "cell_type": "code",
   "execution_count": 33,
   "metadata": {},
   "outputs": [
    {
     "data": {
      "text/plain": [
       "11.82966888487788"
      ]
     },
     "execution_count": 33,
     "metadata": {},
     "output_type": "execute_result"
    }
   ],
   "source": [
    "lr.intercept_"
   ]
  },
  {
   "cell_type": "code",
   "execution_count": 34,
   "metadata": {},
   "outputs": [
    {
     "data": {
      "text/plain": [
       "array([0.06532045])"
      ]
     },
     "execution_count": 34,
     "metadata": {},
     "output_type": "execute_result"
    }
   ],
   "source": [
    "lr.coef_"
   ]
  },
  {
   "cell_type": "code",
   "execution_count": 35,
   "metadata": {},
   "outputs": [],
   "source": [
    "y_pred = lr.predict(X_test)"
   ]
  },
  {
   "cell_type": "code",
   "execution_count": 36,
   "metadata": {},
   "outputs": [
    {
     "data": {
      "text/plain": [
       "25.497452374414927"
      ]
     },
     "execution_count": 36,
     "metadata": {},
     "output_type": "execute_result"
    }
   ],
   "source": [
    "mean_squared_error(y_test,y_pred)"
   ]
  },
  {
   "cell_type": "code",
   "execution_count": 37,
   "metadata": {},
   "outputs": [
    {
     "data": {
      "text/plain": [
       "-0.024953278429509007"
      ]
     },
     "execution_count": 37,
     "metadata": {},
     "output_type": "execute_result"
    }
   ],
   "source": [
    "r2_score(y_test,y_pred)"
   ]
  },
  {
   "cell_type": "markdown",
   "metadata": {},
   "source": [
    "## Multiple linear regression"
   ]
  },
  {
   "cell_type": "code",
   "execution_count": 38,
   "metadata": {},
   "outputs": [],
   "source": [
    "X = df[[\"TV\",\"radio\",\"newspaper\"]]\n",
    "y = df[\"sales\"]"
   ]
  },
  {
   "cell_type": "code",
   "execution_count": 39,
   "metadata": {},
   "outputs": [],
   "source": [
    "X_train, X_test, y_train, y_test = train_test_split(X,y,random_state=1,test_size=0.3)"
   ]
  },
  {
   "cell_type": "code",
   "execution_count": 40,
   "metadata": {},
   "outputs": [
    {
     "data": {
      "text/plain": [
       "LinearRegression(copy_X=True, fit_intercept=True, n_jobs=None, normalize=False)"
      ]
     },
     "execution_count": 40,
     "metadata": {},
     "output_type": "execute_result"
    }
   ],
   "source": [
    "lr = LinearRegression()\n",
    "lr.fit(X_train,y_train)"
   ]
  },
  {
   "cell_type": "code",
   "execution_count": 41,
   "metadata": {},
   "outputs": [
    {
     "data": {
      "text/plain": [
       "2.9372157346906125"
      ]
     },
     "execution_count": 41,
     "metadata": {},
     "output_type": "execute_result"
    }
   ],
   "source": [
    "lr.intercept_"
   ]
  },
  {
   "cell_type": "code",
   "execution_count": 42,
   "metadata": {},
   "outputs": [
    {
     "data": {
      "text/plain": [
       "array([0.04695205, 0.17658644, 0.00185115])"
      ]
     },
     "execution_count": 42,
     "metadata": {},
     "output_type": "execute_result"
    }
   ],
   "source": [
    "lr.coef_"
   ]
  },
  {
   "cell_type": "code",
   "execution_count": 43,
   "metadata": {},
   "outputs": [],
   "source": [
    "y_pred = lr.predict(X_test)"
   ]
  },
  {
   "cell_type": "code",
   "execution_count": 44,
   "metadata": {},
   "outputs": [
    {
     "data": {
      "text/plain": [
       "1.9289249074665737"
      ]
     },
     "execution_count": 44,
     "metadata": {},
     "output_type": "execute_result"
    }
   ],
   "source": [
    "mean_squared_error(y_test,y_pred)"
   ]
  },
  {
   "cell_type": "code",
   "execution_count": 45,
   "metadata": {},
   "outputs": [
    {
     "data": {
      "text/plain": [
       "0.9224605706201434"
      ]
     },
     "execution_count": 45,
     "metadata": {},
     "output_type": "execute_result"
    }
   ],
   "source": [
    "r2_score(y_test,y_pred)"
   ]
  },
  {
   "cell_type": "markdown",
   "metadata": {},
   "source": [
    "## Assumptions of Linear Regression"
   ]
  },
  {
   "cell_type": "code",
   "execution_count": 46,
   "metadata": {},
   "outputs": [],
   "source": [
    "X = df[[\"TV\",\"radio\"]]\n",
    "y = df[\"sales\"]"
   ]
  },
  {
   "cell_type": "code",
   "execution_count": 47,
   "metadata": {},
   "outputs": [],
   "source": [
    "X_train, X_test, y_train, y_test = train_test_split(X,y,random_state=1,test_size=0.3)"
   ]
  },
  {
   "cell_type": "code",
   "execution_count": 48,
   "metadata": {},
   "outputs": [
    {
     "data": {
      "text/plain": [
       "LinearRegression(copy_X=True, fit_intercept=True, n_jobs=None, normalize=False)"
      ]
     },
     "execution_count": 48,
     "metadata": {},
     "output_type": "execute_result"
    }
   ],
   "source": [
    "lr = LinearRegression()\n",
    "lr.fit(X_train,y_train)"
   ]
  },
  {
   "cell_type": "code",
   "execution_count": 49,
   "metadata": {},
   "outputs": [
    {
     "data": {
      "text/plain": [
       "2.9647671191401574"
      ]
     },
     "execution_count": 49,
     "metadata": {},
     "output_type": "execute_result"
    }
   ],
   "source": [
    "lr.intercept_"
   ]
  },
  {
   "cell_type": "code",
   "execution_count": 50,
   "metadata": {},
   "outputs": [
    {
     "data": {
      "text/plain": [
       "array([0.04697554, 0.17765046])"
      ]
     },
     "execution_count": 50,
     "metadata": {},
     "output_type": "execute_result"
    }
   ],
   "source": [
    "lr.coef_"
   ]
  },
  {
   "cell_type": "code",
   "execution_count": 51,
   "metadata": {},
   "outputs": [],
   "source": [
    "y_pred = lr.predict(X_test)"
   ]
  },
  {
   "cell_type": "code",
   "execution_count": 52,
   "metadata": {},
   "outputs": [
    {
     "data": {
      "text/plain": [
       "1.9147050289721788"
      ]
     },
     "execution_count": 52,
     "metadata": {},
     "output_type": "execute_result"
    }
   ],
   "source": [
    "mean_squared_error(y_test,y_pred)"
   ]
  },
  {
   "cell_type": "code",
   "execution_count": 53,
   "metadata": {},
   "outputs": [
    {
     "data": {
      "text/plain": [
       "0.9230321850256801"
      ]
     },
     "execution_count": 53,
     "metadata": {},
     "output_type": "execute_result"
    }
   ],
   "source": [
    "r2_score(y_test,y_pred)"
   ]
  },
  {
   "cell_type": "code",
   "execution_count": 54,
   "metadata": {},
   "outputs": [],
   "source": [
    "residuals = y_test - y_pred"
   ]
  },
  {
   "cell_type": "code",
   "execution_count": 55,
   "metadata": {},
   "outputs": [
    {
     "data": {
      "image/png": "[encoded data removed]",
      "text/plain": [
       "<Figure size 432x288 with 1 Axes>"
      ]
     },
     "metadata": {
      "needs_background": "light"
     },
     "output_type": "display_data"
    }
   ],
   "source": [
    "plt.figure()\n",
    "sns.scatterplot(y_pred,residuals)\n",
    "plt.show()"
   ]
  },
  {
   "cell_type": "code",
   "execution_count": 56,
   "metadata": {},
   "outputs": [
    {
     "data": {
      "image/png": "[encoded data removed]",
      "text/plain": [
       "<Figure size 432x288 with 1 Axes>"
      ]
     },
     "metadata": {
      "needs_background": "light"
     },
     "output_type": "display_data"
    }
   ],
   "source": [
    "plt.figure()\n",
    "sns.distplot(residuals)\n",
    "plt.show()"
   ]
  },
  {
   "cell_type": "markdown",
   "metadata": {},
   "source": [
    "# Polynomial regression"
   ]
  },
  {
   "cell_type": "code",
   "execution_count": 57,
   "metadata": {},
   "outputs": [],
   "source": [
    "# Linear \n",
    "def poly_1(x):\n",
    "    \n",
    "    y = 4*x + 5\n",
    "    return y    \n",
    "\n",
    "\n",
    "# Quadratic\n",
    "def poly_2(x):\n",
    "    \n",
    "    y = 6*(x**2) + 4*x + 5\n",
    "    return y\n",
    "\n",
    "# Cubic\n",
    "def poly_3(x):\n",
    "    \n",
    "    y = 8*(x**3) + 6*(x**2) + 4*x + 5\n",
    "    return y\n",
    "\n",
    "\n",
    "# Plot\n",
    "def plot(x,y):\n",
    "    \n",
    "    plt.figure()\n",
    "    plt.plot(x,y)\n",
    "    plt.show()"
   ]
  },
  {
   "cell_type": "code",
   "execution_count": 58,
   "metadata": {},
   "outputs": [],
   "source": [
    "x = np.arange(-100,100)"
   ]
  },
  {
   "cell_type": "code",
   "execution_count": 59,
   "metadata": {},
   "outputs": [
    {
     "data": {
      "image/png": "[encoded data removed]",
      "text/plain": [
       "<Figure size 432x288 with 1 Axes>"
      ]
     },
     "metadata": {
      "needs_background": "light"
     },
     "output_type": "display_data"
    }
   ],
   "source": [
    "# plot linear relation\n",
    "\n",
    "y = poly_1(x)\n",
    "plot(x,y)"
   ]
  },
  {
   "cell_type": "code",
   "execution_count": 60,
   "metadata": {},
   "outputs": [
    {
     "data": {
      "image/png": "[encoded data removed]",
      "text/plain": [
       "<Figure size 432x288 with 1 Axes>"
      ]
     },
     "metadata": {
      "needs_background": "light"
     },
     "output_type": "display_data"
    }
   ],
   "source": [
    "# plot quadratic relation\n",
    "\n",
    "y = poly_2(x)\n",
    "plot(x,y)"
   ]
  },
  {
   "cell_type": "code",
   "execution_count": 61,
   "metadata": {},
   "outputs": [
    {
     "data": {
      "image/png": "[encoded data removed]",
      "text/plain": [
       "<Figure size 432x288 with 1 Axes>"
      ]
     },
     "metadata": {
      "needs_background": "light"
     },
     "output_type": "display_data"
    }
   ],
   "source": [
    "# plot cubic relation\n",
    "\n",
    "y = poly_3(x)\n",
    "plot(x,y)"
   ]
  },
  {
   "cell_type": "code",
   "execution_count": 62,
   "metadata": {},
   "outputs": [],
   "source": [
    "from sklearn.preprocessing import PolynomialFeatures"
   ]
  },
  {
   "cell_type": "code",
   "execution_count": 63,
   "metadata": {},
   "outputs": [],
   "source": [
    "X = df[[\"TV\",\"radio\"]]\n",
    "y = df[\"sales\"]"
   ]
  },
  {
   "cell_type": "code",
   "execution_count": 64,
   "metadata": {},
   "outputs": [],
   "source": [
    "pf = PolynomialFeatures(2)"
   ]
  },
  {
   "cell_type": "code",
   "execution_count": 65,
   "metadata": {},
   "outputs": [],
   "source": [
    "X_poly = pf.fit_transform(X)"
   ]
  },
  {
   "cell_type": "code",
   "execution_count": 66,
   "metadata": {},
   "outputs": [],
   "source": [
    "X_train, X_test, y_train, y_test = train_test_split(X_poly,y,random_state=1,test_size=0.3)"
   ]
  },
  {
   "cell_type": "code",
   "execution_count": 67,
   "metadata": {},
   "outputs": [
    {
     "data": {
      "text/plain": [
       "LinearRegression(copy_X=True, fit_intercept=True, n_jobs=None, normalize=False)"
      ]
     },
     "execution_count": 67,
     "metadata": {},
     "output_type": "execute_result"
    }
   ],
   "source": [
    "lr = LinearRegression()\n",
    "lr.fit(X_train,y_train)"
   ]
  },
  {
   "cell_type": "code",
   "execution_count": 68,
   "metadata": {},
   "outputs": [],
   "source": [
    "y_pred = lr.predict(X_test)"
   ]
  },
  {
   "cell_type": "code",
   "execution_count": 69,
   "metadata": {},
   "outputs": [
    {
     "data": {
      "text/plain": [
       "0.17238345081004028"
      ]
     },
     "execution_count": 69,
     "metadata": {},
     "output_type": "execute_result"
    }
   ],
   "source": [
    "mean_squared_error(y_test,y_pred)"
   ]
  },
  {
   "cell_type": "code",
   "execution_count": 70,
   "metadata": {},
   "outputs": [
    {
     "data": {
      "text/plain": [
       "0.9930704848288281"
      ]
     },
     "execution_count": 70,
     "metadata": {},
     "output_type": "execute_result"
    }
   ],
   "source": [
    "r2_score(y_test,y_pred)"
   ]
  },
  {
   "cell_type": "code",
   "execution_count": 71,
   "metadata": {},
   "outputs": [],
   "source": [
    "residuals = y_test - y_pred"
   ]
  },
  {
   "cell_type": "code",
   "execution_count": 72,
   "metadata": {},
   "outputs": [
    {
     "data": {
      "image/png": "[encoded data removed]",
      "text/plain": [
       "<Figure size 432x288 with 1 Axes>"
      ]
     },
     "metadata": {
      "needs_background": "light"
     },
     "output_type": "display_data"
    }
   ],
   "source": [
    "plt.figure()\n",
    "sns.scatterplot(y_pred,residuals)\n",
    "plt.show()"
   ]
  },
  {
   "cell_type": "code",
   "execution_count": 73,
   "metadata": {},
   "outputs": [
    {
     "data": {
      "image/png": "[encoded data removed]",
      "text/plain": [
       "<Figure size 432x288 with 1 Axes>"
      ]
     },
     "metadata": {
      "needs_background": "light"
     },
     "output_type": "display_data"
    }
   ],
   "source": [
    "plt.figure()\n",
    "sns.distplot(residuals)\n",
    "plt.show()"
   ]
  },
  {
   "cell_type": "markdown",
   "metadata": {},
   "source": [
    "# Gradient descent"
   ]
  },
  {
   "cell_type": "code",
   "execution_count": 92,
   "metadata": {},
   "outputs": [],
   "source": [
    "def gradient_descent(x,y):\n",
    "    \n",
    "    \n",
    "    n = len(x)\n",
    "    learning_rate = 0.01\n",
    "    intercept = slope = 0\n",
    "    iterations = 5000\n",
    "    \n",
    "    for i in range(iterations):\n",
    "        \n",
    "        y_pred = x*slope + intercept\n",
    "        \n",
    "        mse = mean_squared_error(y_pred,y)\n",
    "        \n",
    "        md = (2/n)*sum(x*(y-y_pred))\n",
    "        bd = (2/n)*sum(y-y_pred)\n",
    "\n",
    "        slope = slope + (learning_rate * md)\n",
    "        intercept = intercept + (learning_rate * bd)\n",
    "        \n",
    "        print(\"slope: \",slope,\"intercept: \",intercept,\"mse: \",mse,\"iteration: \",i)"
   ]
  },
  {
   "cell_type": "code",
   "execution_count": 93,
   "metadata": {},
   "outputs": [],
   "source": [
    "x = np.array([10,12,13,14,20,21])\n",
    "y = np.array([12,12,13,15,16,26])"
   ]
  },
  {
   "cell_type": "code",
   "execution_count": 94,
   "metadata": {},
   "outputs": [
    {
     "name": "stdout",
     "output_type": "stream",
     "text": [
      "slope:  5.03 intercept:  0.31333333333333335 mse:  269.0 iteration:  0\n",
      "slope:  -14.345666666666666 intercept:  -0.8886000000000002 mse:  3890.8565666666673 iteration:  1\n",
      "slope:  60.28830222222222 intercept:  3.7462053333333323 mse:  57630.48295214518 iteration:  2\n",
      "slope:  -227.1990201185185 intercept:  -14.101876106666666 mse:  854997.0590517033 iteration:  3\n",
      "slope:  880.1901399529875 intercept:  54.65320078435553 mse:  12685995.864658995 iteration:  4\n",
      "slope:  -3385.428163388425 intercept:  -210.18357188389444 mse:  188229512.38211393 iteration:  5\n",
      "slope:  13045.559697887466 intercept:  809.9618819036443 mse:  2792872340.717798 iteration:  6\n",
      "slope:  -50245.937406473044 intercept:  -3119.591931767335 mse:  41439496253.611626 iteration:  7\n",
      "slope:  193550.33430434347 intercept:  12016.894462143257 mse:  614862279453.0112 iteration:  8\n",
      "slope:  -745542.9865052928 intercept:  -46288.23038506931 mse:  9123074769973.854 iteration:  9\n",
      "slope:  2871806.280719143 intercept:  178300.74350755318 mse:  135364448333748.7 iteration:  10\n",
      "slope:  -11062075.93580898 intercept:  -686806.8422450074 mse:  2008482264446608.2 iteration:  11\n",
      "slope:  42610671.5032746 intercept:  2645552.38867592 mse:  2.980103754163506e+16 iteration:  12\n",
      "slope:  -164134568.11582205 intercept:  -10190559.796746643 mse:  4.421755941183983e+17 iteration:  13\n",
      "slope:  632239684.0796751 intercept:  39253622.147268236 mse:  6.560820433208017e+18 iteration:  14\n",
      "slope:  -2435361537.252935 intercept:  -151203355.2062463 mse:  9.734676750448176e+19 iteration:  15\n",
      "slope:  9380913571.061457 intercept:  582429173.3870924 mse:  1.4443914812248563e+21 iteration:  16\n",
      "slope:  -36134897436.05504 intercept:  -2243493481.0857534 mse:  2.1431289446142977e+22 iteration:  17\n",
      "slope:  139190154887.5667 intercept:  8641845619.665806 mse:  3.17988698558973e+23 iteration:  18\n",
      "slope:  -536154814083.2088 intercept:  -33288037758.684185 mse:  4.718186120594231e+24 iteration:  19\n",
      "slope:  2065246531984.9353 intercept:  128224167221.76546 mse:  7.000651397187799e+25 iteration:  20\n",
      "slope:  -7955245622770.418 intercept:  -493914275717.8371 mse:  1.0387279927561446e+27 iteration:  21\n",
      "slope:  30643282503340.316 intercept:  1902537696627.9587 mse:  1.5412220688043863e+28 iteration:  22\n",
      "slope:  -118036677571787.94 intercept:  -7328497808306.383 mse:  2.2868022060972043e+29 iteration:  23\n",
      "slope:  454672480034350.7 intercept:  28229075419396.445 mse:  3.3930634888117295e+30 iteration:  24\n",
      "slope:  -1751379896090824.8 intercept:  -108737250099296.38 mse:  5.034488688357441e+31 iteration:  25\n",
      "slope:  6746244110044621.0 intercept:  418851463729937.3 mse:  7.469968197404811e+32 iteration:  26\n",
      "slope:  -2.598625786095669e+16 intercept:  -1613398798558047.5 mse:  1.1083632981295816e+34 iteration:  27\n",
      "slope:  1.0009800810656805e+17 intercept:  6214746535700118.0 mse:  1.6445440839593865e+35 iteration:  28\n",
      "slope:  -3.855734550358875e+17 intercept:  -2.3938950826984296e+16 mse:  2.440107182049279e+36 iteration:  29\n",
      "slope:  1.4852132628856637e+18 intercept:  9.221186470032163e+16 mse:  3.620531135628416e+37 iteration:  30\n",
      "slope:  -5.720981067138475e+18 intercept:  -3.5519635145938394e+17 mse:  5.371995869888825e+38 iteration:  31\n",
      "slope:  2.2036986329468637e+19 intercept:  1.3682018957113462e+18 mse:  7.970747535387142e+39 iteration:  32\n",
      "slope:  -8.488557483167652e+19 intercept:  -5.27025804104347e+18 mse:  1.1826668860450009e+41 iteration:  33\n",
      "slope:  3.269757809337397e+20 intercept:  2.0300819569280352e+19 mse:  1.754792705624747e+42 iteration:  34\n",
      "slope:  -1.259497406116786e+21 intercept:  -7.819793110222715e+19 mse:  2.603689573157332e+43 iteration:  35\n",
      "slope:  4.851532769445015e+21 intercept:  3.012152493548531e+20 mse:  3.8632479902830775e+44 iteration:  36\n",
      "slope:  -1.8687906857679013e+22 intercept:  -1.1602688864657484e+21 mse:  5.732129201688207e+45 iteration:  37\n",
      "slope:  7.198505695370926e+22 intercept:  4.469308548567271e+21 mse:  8.505098628793713e+46 iteration:  38\n",
      "slope:  -2.772835108871223e+23 intercept:  -1.721559470851685e+22 mse:  1.2619517135832235e+48 iteration:  39\n",
      "slope:  1.0680848034798575e+24 intercept:  6.631377045179019e+22 mse:  1.872432286704127e+49 iteration:  40\n",
      "slope:  -4.114219211141657e+24 intercept:  -2.554379460012028e+23 mse:  2.7782383672486148e+50 iteration:  41\n",
      "slope:  1.5847805026510044e+25 intercept:  9.839365762613182e+23 mse:  4.12223634470575e+51 iteration:  42\n",
      "slope:  -6.1045100241166885e+25 intercept:  -3.7900836632169204e+24 mse:  6.116405518667428e+52 iteration:  43\n",
      "slope:  2.3514324269010477e+26 intercept:  1.4599248082397484e+25 mse:  9.075272095165561e+53 iteration:  44\n",
      "slope:  -9.057622047367875e+26 intercept:  -5.62357096862819e+25 mse:  1.346551718160677e+55 iteration:  45\n",
      "slope:  3.488959164396902e+27 intercept:  2.1661766592848e+26 mse:  1.997958309864199e+56 iteration:  46\n",
      "slope:  -1.34393287633e+28 intercept:  -8.344024367091602e+26 mse:  2.9644887412182416e+57 iteration:  47\n",
      "slope:  5.176774765699609e+28 intercept:  3.2140842410150233e+27 mse:  4.3985870242743203e+58 iteration:  48\n",
      "slope:  -1.9940725795745615e+29 intercept:  -1.2380521740904104e+28 mse:  6.526443342862434e+59 iteration:  49\n",
      "slope:  7.681086453591864e+29 intercept:  4.768926608115082e+28 mse:  9.68366943123527e+60 iteration:  50\n",
      "slope:  -2.958723253701227e+30 intercept:  -1.836971128482281e+29 mse:  1.4368232240305075e+62 iteration:  51\n",
      "slope:  1.1396881606375837e+31 intercept:  7.075938055191045e+29 mse:  2.1318994744434145e+63 iteration:  52\n",
      "slope:  -4.390032429942977e+31 intercept:  -2.725622552504029e+30 mse:  3.1632251574989866e+64 iteration:  53\n",
      "slope:  1.691022632468986e+32 intercept:  1.0498987188374981e+31 mse:  4.693463982229652e+65 iteration:  54\n",
      "slope:  -6.513750386029572e+32 intercept:  -4.0441671529462097e+31 mse:  6.963969700438267e+66 iteration:  55\n",
      "slope:  2.5090701494368406e+33 intercept:  1.557796734820143e+32 mse:  1.0332853127719886e+68 iteration:  56\n",
      "slope:  -9.664836141552492e+33 intercept:  -6.000569648186782e+32 mse:  1.5331464430741461e+69 iteration:  57\n",
      "slope:  3.722855563206349e+34 intercept:  2.3113950169434434e+33 mse:  2.2748199232650777e+70 iteration:  58\n",
      "slope:  -1.4340288176132642e+35 intercept:  -8.903399573014474e+33 mse:  3.3752846681153415e+71 iteration:  59\n",
      "slope:  5.5238206662365555e+35 intercept:  3.429553294684374e+34 mse:  5.008109202095709e+72 iteration:  60\n",
      "slope:  -2.127753248608066e+36 intercept:  -1.3210499769918976e+35 mse:  7.430827395699421e+73 iteration:  61\n",
      "slope:  8.196018952307345e+36 intercept:  5.0886307683721386e+35 mse:  1.1025557462199648e+75 iteration:  62\n",
      "slope:  -3.1570731573562657e+37 intercept:  -1.9601198703917335e+36 mse:  1.6359270762044705e+76 iteration:  63\n",
      "slope:  1.2160917365977436e+38 intercept:  7.550301999084898e+36 mse:  2.4273216187338093e+77 iteration:  64\n",
      "slope:  -4.6843358962886045e+38 intercept:  -2.908345613882911e+37 mse:  3.6015604402381715e+78 iteration:  65\n",
      "slope:  1.804387130418947e+39 intercept:  1.1202828987260562e+38 mse:  5.3438479287532146e+79 iteration:  66\n",
      "slope:  -6.950425820234414e+39 intercept:  -4.315284150505306e+38 mse:  7.928982772742689e+80 iteration:  67\n",
      "slope:  2.6772757502080404e+40 intercept:  1.662229899320804e+39 mse:  1.1764700015540751e+82 iteration:  68\n",
      "slope:  -1.0312757272777114e+41 intercept:  -6.402841949289733e+39 mse:  1.7455980221254552e+83 iteration:  69\n",
      "slope:  3.972432147079096e+41 intercept:  2.4663486708027404e+40 mse:  2.5900468782231387e+84 iteration:  70\n",
      "slope:  -1.5301647023927284e+42 intercept:  -9.500274743850601e+40 mse:  3.843005518089031e+85 iteration:  71\n",
      "slope:  5.894132183403678e+42 intercept:  3.659467182280826e+41 mse:  5.702094250199277e+86 iteration:  72\n",
      "slope:  -2.270395738518252e+43 intercept:  -1.4096118711575825e+42 mse:  8.460533997443614e+87 iteration:  73\n",
      "slope:  8.745472020454693e+43 intercept:  5.429767581820325e+42 mse:  1.2553393960367734e+89 iteration:  74\n",
      "slope:  -3.3687202439197598e+44 intercept:  -2.0915243831180164e+43 mse:  1.8626212006454078e+90 iteration:  75\n",
      "slope:  1.2976173333185953e+45 intercept:  8.056466836303621e+43 mse:  2.7636810794330478e+91 iteration:  76\n",
      "slope:  -4.9983691782301924e+45 intercept:  -3.1033182499980304e+44 mse:  4.1006368370389173e+92 iteration:  77\n",
      "slope:  1.9253514730715677e+46 intercept:  1.1953855649692507e+45 mse:  6.084357053502742e+93 iteration:  78\n",
      "slope:  -7.416375547056753e+46 intercept:  -4.604576565544836e+45 mse:  9.027719894659189e+94 iteration:  79\n",
      "slope:  2.8567576894017234e+47 intercept:  1.7736641606936316e+46 mse:  1.339496117334308e+96 iteration:  80\n",
      "slope:  -1.100411440086075e+48 intercept:  -6.832082190725412e+46 mse:  1.9874894982233184e+97 iteration:  81\n",
      "slope:  4.2387401002354634e+48 intercept:  2.631690265567134e+47 mse:  2.9489555471119896e+98 iteration:  82\n",
      "slope:  -1.6327454425536287e+49 intercept:  -1.0137163840450598e+48 mse:  4.375539506808217e+99 iteration:  83\n",
      "slope:  6.289269021310263e+49 intercept:  3.904794271296727e+48 mse:  6.4922463800409474e+100 iteration:  84\n",
      "slope:  -2.4226008409828247e+50 intercept:  -1.5041108678059997e+49 mse:  9.632929377867978e+101 iteration:  85\n",
      "slope:  9.331759883135008e+50 intercept:  5.793773872498594e+49 mse:  1.4292946226481112e+103 iteration:  86\n",
      "slope:  -3.594555943485915e+51 intercept:  -2.2317381254356395e+50 mse:  2.1207288439427446e+104 iteration:  87\n",
      "slope:  1.3846083260459077e+52 intercept:  8.59656446753082e+50 mse:  3.146650633301935e+105 iteration:  88\n",
      "slope:  -5.333454943245238e+52 intercept:  -3.3113616603197034e+51 mse:  4.6688713818082005e+106 iteration:  89\n",
      "slope:  2.0544251465583007e+53 intercept:  1.2755230402622402e+52 mse:  6.92748020678531e+107 iteration:  90\n",
      "slope:  -7.91356208634802e+53 intercept:  -4.913262860217906e+52 mse:  1.027871151096398e+109 iteration:  91\n",
      "slope:  3.048271921680727e+54 intercept:  1.8925688656030508e+53 mse:  1.5251131316425815e+110 iteration:  92\n",
      "slope:  -1.1741819432410877e+55 intercept:  -7.290098276751192e+53 mse:  2.2629004246569242e+111 iteration:  93\n",
      "slope:  4.5229010772544227e+55 intercept:  2.8081161986016463e+54 mse:  3.357599004080018e+112 iteration:  94\n",
      "slope:  -1.742203094876667e+56 intercept:  -1.0816749357133652e+55 mse:  4.981867937873709e+113 iteration:  95\n",
      "slope:  6.7108954450986235e+56 intercept:  4.1665678476309024e+55 mse:  7.391891682197604e+114 iteration:  96\n",
      "slope:  -2.5850096241640314e+57 intercept:  -1.6049449844617582e+56 mse:  1.0967786244583356e+116 iteration:  97\n",
      "slope:  9.957351908829306e+57 intercept:  6.182182787719572e+56 mse:  1.6273552194572883e+117 iteration:  98\n",
      "slope:  -3.835531446747725e+58 intercept:  -2.381351659452274e+57 mse:  2.414603048635074e+118 iteration:  99\n",
      "slope:  1.4774311095649848e+59 intercept:  9.172869713979948e+57 mse:  3.582689146640127e+119 iteration:  100\n",
      "slope:  -5.6910045291410494e+59 intercept:  -3.533352096724919e+58 mse:  5.315847475927237e+120 iteration:  101\n",
      "slope:  2.192151792460911e+60 intercept:  1.3610328532632727e+59 mse:  7.887436847213714e+121 iteration:  102\n",
      "slope:  -8.444079523364723e+60 intercept:  -5.242643181184724e+59 mse:  1.1703055872183973e+123 iteration:  103\n",
      "slope:  3.252625080166698e+61 intercept:  2.0194448252533144e+60 mse:  1.7364515165131524e+124 iteration:  104\n",
      "slope:  -1.2528979485396609e+62 intercept:  -7.778819311751846e+60 mse:  2.576475667665194e+125 iteration:  105\n",
      "slope:  4.826111927337288e+62 intercept:  2.9963695530673015e+61 mse:  3.8228691114858007e+126 iteration:  106\n",
      "slope:  -1.8589986808051618e+63 intercept:  -1.154189362000591e+62 mse:  5.672216674491538e+127 iteration:  107\n",
      "slope:  7.160787290613137e+63 intercept:  4.445890467654905e+62 mse:  8.416202873834475e+128 iteration:  108\n",
      "slope:  -2.758306132804667e+64 intercept:  -1.7125389213537603e+63 mse:  1.2487617254129165e+130 iteration:  109\n",
      "slope:  1.06248830100585e+65 intercept:  6.596630255487315e+63 mse:  1.8528615222719423e+131 iteration:  110\n",
      "slope:  -4.0926617112888855e+65 intercept:  -2.540995137979793e+64 mse:  2.749200068236163e+132 iteration:  111\n",
      "slope:  1.5764766414080122e+66 intercept:  9.78780989864646e+64 mse:  4.0791505054960225e+133 iteration:  112\n",
      "slope:  -6.0725238884266516e+66 intercept:  -3.770224554156683e+65 mse:  6.052476514437179e+134 iteration:  113\n",
      "slope:  2.339111497559353e+67 intercept:  1.4522751602206406e+66 mse:  8.980416856023584e+135 iteration:  114\n",
      "slope:  -9.010162328784138e+67 intercept:  -5.5941048356618304e+66 mse:  1.3324774861262226e+137 iteration:  115\n",
      "slope:  3.4706778738742394e+68 intercept:  2.1548264247403823e+67 mse:  1.977075540588463e+138 iteration:  116\n",
      "slope:  -1.3368909975926793e+69 intercept:  -8.300303725377142e+67 mse:  2.933503743134083e+139 iteration:  117\n",
      "slope:  5.149649735281401e+69 intercept:  3.1972432276910776e+68 mse:  4.352612752682336e+140 iteration:  118\n",
      "slope:  -1.98362412820761e+70 intercept:  -1.2315650842706947e+69 mse:  6.458228600919484e+141 iteration:  119\n",
      "slope:  7.640839443990623e+70 intercept:  4.7439386020375486e+69 mse:  9.582455189938752e+142 iteration:  120\n",
      "slope:  -2.943220269335852e+71 intercept:  -1.8273458501975072e+70 mse:  1.4218054692909261e+144 iteration:  121\n",
      "slope:  1.1337164741293357e+72 intercept:  7.038861874813999e+70 mse:  2.1096167448068328e+145 iteration:  122\n",
      "slope:  -4.367029736453562e+72 intercept:  -2.711340958656235e+71 mse:  3.130162955547563e+146 iteration:  123\n",
      "slope:  1.6821620885165007e+73 intercept:  1.0443975069877577e+72 mse:  4.6444076405827934e+147 iteration:  124\n",
      "slope:  -6.479619931189552e+73 intercept:  -4.022976708701498e+72 mse:  6.891181909131779e+148 iteration:  125\n",
      "slope:  2.495923237082099e+74 intercept:  1.549634261904119e+73 mse:  1.0224853583004211e+150 iteration:  126\n",
      "slope:  -9.614194770005169e+74 intercept:  -5.96912813458026e+73 mse:  1.517121912793128e+151 iteration:  127\n",
      "slope:  3.703348712905722e+75 intercept:  2.299283873812685e+74 mse:  2.251043381298785e+152 iteration:  128\n",
      "slope:  -1.4265148582352983e+76 intercept:  -8.856747942380736e+74 mse:  3.340006008587671e+153 iteration:  129\n",
      "slope:  5.494877200395784e+76 intercept:  3.4115832763525816e+75 mse:  4.9557641714418116e+154 iteration:  130\n",
      "slope:  -2.1166043433141081e+77 intercept:  -1.3141279990361823e+76 mse:  7.353159982287399e+155 iteration:  131\n",
      "slope:  8.153073822675167e+77 intercept:  5.061967590886864e+76 mse:  1.0910317733981726e+157 iteration:  132\n",
      "slope:  -3.140530868131475e+78 intercept:  -1.949849322895637e+77 mse:  1.6188282771376219e+158 iteration:  133\n",
      "slope:  1.2097197140857522e+79 intercept:  7.510740267956702e+77 mse:  2.401951120725034e+159 iteration:  134\n",
      "slope:  -4.659791124799253e+79 intercept:  -2.8931065959974995e+78 mse:  3.5639167339932567e+160 iteration:  135\n",
      "slope:  1.7949325842943725e+80 intercept:  1.114412891032021e+79 mse:  5.287993738608298e+161 iteration:  136\n",
      "slope:  -6.914007293192722e+80 intercept:  -4.292673119671737e+79 mse:  7.846108612147349e+162 iteration:  137\n",
      "slope:  2.663247481749558e+81 intercept:  1.653520222229986e+80 mse:  1.1641734729023084e+164 iteration:  138\n",
      "slope:  -1.025872095337354e+82 intercept:  -6.369292627463288e+80 mse:  1.7273529363475104e+165 iteration:  139\n",
      "slope:  3.95161757667558e+82 intercept:  2.45342560852066e+81 mse:  2.562975566922877e+166 iteration:  140\n",
      "slope:  -1.5221470145512008e+83 intercept:  -9.450495633676493e+81 mse:  3.802838214715672e+167 iteration:  141\n",
      "slope:  5.863248376013967e+83 intercept:  3.640292471553306e+82 mse:  5.64249564995445e+168 iteration:  142\n",
      "slope:  -2.2584994215533473e+84 intercept:  -1.4022258505919661e+83 mse:  8.372104034442955e+169 iteration:  143\n",
      "slope:  8.699647891472257e+84 intercept:  5.401316931079915e+83 mse:  1.242218520170269e+171 iteration:  144\n",
      "slope:  -3.351068975857605e+85 intercept:  -2.0805653081958447e+84 mse:  1.84315298222006e+172 iteration:  145\n",
      "slope:  1.2908181366700023e+86 intercept:  8.014252925540884e+84 mse:  2.7347949339871785e+173 iteration:  146\n"
     ]
    },
    {
     "name": "stdout",
     "output_type": "stream",
     "text": [
      "slope:  -4.972178949344966e+86 intercept:  -3.087057623307e+85 mse:  4.057776757061925e+174 iteration:  147\n",
      "slope:  1.915263103452158e+87 intercept:  1.1891220377194038e+86 mse:  6.020763021579154e+175 iteration:  148\n",
      "slope:  -7.377515557698188e+87 intercept:  -4.580449713391458e+86 mse:  8.933361673711647e+176 iteration:  149\n",
      "slope:  2.841788979591146e+88 intercept:  1.7643705953970933e+87 mse:  1.325495630824688e+178 iteration:  150\n",
      "slope:  -1.094645553962797e+89 intercept:  -6.796283755284286e+87 mse:  1.966716149538096e+179 iteration:  151\n",
      "slope:  4.2165301414565746e+89 intercept:  2.6179008538705297e+88 mse:  2.9181329028202103e+180 iteration:  152\n",
      "slope:  -1.6241902567866322e+90 intercept:  -1.0084047587576606e+89 mse:  4.329806129126396e+181 iteration:  153\n",
      "slope:  6.256314793778154e+90 intercept:  3.8843341067773895e+89 mse:  6.424389066619407e+182 iteration:  154\n",
      "slope:  -2.4099070066019576e+91 intercept:  -1.496229695669262e+90 mse:  9.532245474377942e+183 iteration:  155\n",
      "slope:  9.282863749510915e+91 intercept:  5.763415918049996e+90 mse:  1.4143555572609853e+185 iteration:  156\n",
      "slope:  -3.575721351733334e+92 intercept:  -2.2200443648843746e+91 mse:  2.0985628703456934e+186 iteration:  157\n",
      "slope:  1.3773533179257642e+93 intercept:  8.551520577613313e+91 mse:  3.113761669181825e+187 iteration:  158\n",
      "slope:  -5.305508947114936e+93 intercept:  -3.2940109371711873e+92 mse:  4.620072083362867e+188 iteration:  159\n",
      "slope:  2.0436604625389057e+94 intercept:  1.2688396122917044e+93 mse:  6.855073805657566e+189 iteration:  160\n",
      "slope:  -7.872096961434557e+94 intercept:  -4.887518567570848e+93 mse:  1.0171277857380927e+191 iteration:  161\n",
      "slope:  3.032299724252627e+95 intercept:  1.882652268808424e+94 mse:  1.509172565970991e+192 iteration:  162\n",
      "slope:  -1.168029517769932e+96 intercept:  -7.251899949325624e+94 mse:  2.239248465940484e+193 iteration:  163\n",
      "slope:  4.499202184632717e+96 intercept:  2.793402358275885e+95 mse:  3.322505196077884e+194 iteration:  164\n",
      "slope:  -1.7330743778507026e+97 intercept:  -1.0760072242787785e+96 mse:  4.929797182345347e+195 iteration:  165\n",
      "slope:  6.67573199848939e+97 intercept:  4.1447360537589056e+96 mse:  7.314631226987681e+196 iteration:  166\n",
      "slope:  -2.5714648075822094e+98 intercept:  -1.5965354662784443e+97 mse:  1.0853150344284327e+198 iteration:  167\n",
      "slope:  9.905177826386825e+98 intercept:  6.149789665793753e+97 mse:  1.610346013904897e+199 iteration:  168\n",
      "slope:  -3.815434202445665e+99 intercept:  -2.3688739606682594e+98 mse:  2.3893654858149786e+200 iteration:  169\n",
      "slope:  1.46968973281951e+100 intercept:  9.124806125882104e+98 mse:  3.545242684185644e+201 iteration:  170\n",
      "slope:  -5.661185060852434e+100 intercept:  -3.514838198122084e+99 mse:  5.26028594804315e+202 iteration:  171\n",
      "slope:  2.1806654545877994e+101 intercept:  1.353901374839766e+100 mse:  7.804996926899027e+203 iteration:  172\n",
      "slope:  -8.39983461716509e+101 intercept:  -5.215173016420428e+100 mse:  1.158073489361639e+205 iteration:  173\n",
      "slope:  3.2355821222958783e+102 intercept:  2.0088634295403248e+101 mse:  1.7183020305109622e+206 iteration:  174\n",
      "slope:  -1.246333070502041e+103 intercept:  -7.738060205938116e+101 mse:  2.5495462033982186e+207 iteration:  175\n",
      "slope:  4.8008242842089725e+103 intercept:  2.9806693113241875e+102 mse:  3.7829122749330344e+208 iteration:  176\n",
      "slope:  -1.849257983547412e+104 intercept:  -1.1481416927529214e+103 mse:  5.6129303562983326e+209 iteration:  177\n",
      "slope:  7.123266521047667e+104 intercept:  4.422595091744373e+103 mse:  8.328236262156788e+210 iteration:  178\n",
      "slope:  -2.743853285010172e+105 intercept:  -1.7035656373233515e+104 mse:  1.2357095997186951e+212 iteration:  179\n",
      "slope:  1.056921122832536e+106 intercept:  6.56206553045363e+104 mse:  1.8334953125375094e+213 iteration:  180\n",
      "slope:  -4.071217167449416e+106 intercept:  -2.527680946513152e+105 mse:  2.720465279109508e+214 iteration:  181\n",
      "slope:  1.568216290361816e+107 intercept:  9.736524174765358e+105 mse:  4.036515001828766e+215 iteration:  182\n",
      "slope:  -6.040705352244592e+107 intercept:  -3.750469501958442e+106 mse:  5.989215699647537e+216 iteration:  183\n",
      "slope:  2.3268551268663022e+108 intercept:  1.4446655944814505e+107 mse:  8.886553049017062e+217 iteration:  184\n",
      "slope:  -8.962951287488602e+108 intercept:  -5.564793098007084e+107 mse:  1.318550358732977e+219 iteration:  185\n",
      "slope:  3.4524923728313184e+109 intercept:  2.143535662641886e+108 mse:  1.9564110391567022e+220 iteration:  186\n",
      "slope:  -1.329886016573264e+110 intercept:  -8.256812169104907e+108 mse:  2.9028426019406455e+221 iteration:  187\n",
      "slope:  5.122666833371494e+110 intercept:  3.1804904571475104e+109 mse:  4.30711900668569e+222 iteration:  188\n",
      "slope:  -1.9732304241638484e+111 intercept:  -1.225111985210992e+110 mse:  6.390726843181581e+223 iteration:  189\n",
      "slope:  7.600803318851082e+111 intercept:  4.719081526984773e+110 mse:  9.482298845415197e+224 iteration:  190\n",
      "slope:  -2.927798516807202e+112 intercept:  -1.817771006010817e+111 mse:  1.4069446809433547e+226 iteration:  191\n",
      "slope:  1.1277760777941263e+113 intercept:  7.001979964531003e+111 mse:  2.087566915476309e+227 iteration:  192\n",
      "slope:  -4.344147571437743e+113 intercept:  -2.69713419685834e+112 mse:  3.0974463215350316e+228 iteration:  193\n",
      "slope:  1.67334797164171e+114 intercept:  1.0389251201392056e+113 mse:  4.5958640384956697e+229 iteration:  194\n",
      "slope:  -6.445668311564064e+114 intercept:  -4.0018972971887074e+113 mse:  6.819154899791812e+230 iteration:  195\n",
      "slope:  2.4828452113244576e+115 intercept:  1.5415145583447262e+114 mse:  1.0117982855423083e+232 iteration:  196\n",
      "slope:  -9.563818746827428e+115 intercept:  -5.93785136679554e+114 mse:  1.501264871777013e+233 iteration:  197\n",
      "slope:  3.683944073717568e+116 intercept:  2.2872361901022655e+115 mse:  2.2275153530465317e+234 iteration:  198\n",
      "slope:  -1.419040270162041e+117 intercept:  -8.810340754852484e+115 mse:  3.305096083534426e+235 iteration:  199\n",
      "slope:  5.466085391219047e+117 intercept:  3.39370741651058e+116 mse:  4.903966253904606e+236 iteration:  200\n",
      "slope:  -2.1055138555501663e+118 intercept:  -1.3072422905476774e+117 mse:  7.276304352918422e+237 iteration:  201\n",
      "slope:  8.110353714992066e+118 intercept:  5.0354441219137753e+117 mse:  1.0796282497691403e+239 iteration:  202\n",
      "slope:  -3.1240752564460333e+119 intercept:  -1.9396325905500698e+118 mse:  1.6019081956516468e+240 iteration:  203\n",
      "slope:  1.203381079409296e+120 intercept:  7.471385830599032e+118 mse:  2.376845796545832e+241 iteration:  204\n",
      "slope:  -4.635374961894098e+120 intercept:  -2.8779474268291833e+119 mse:  3.526666481820108e+242 iteration:  205\n",
      "slope:  1.7855275776732254e+121 intercept:  1.1085736407389695e+120 mse:  5.232723339506552e+243 iteration:  206\n",
      "slope:  -6.877779590302866e+121 intercept:  -4.2701805650954854e+120 mse:  7.76410065680073e+244 iteration:  207\n",
      "slope:  2.649292717978052e+122 intercept:  1.6448561817115024e+121 mse:  1.152005468238993e+246 iteration:  208\n",
      "slope:  -1.0204967771033876e+123 intercept:  -6.335919095856884e+121 mse:  1.7092985492016936e+247 iteration:  209\n",
      "slope:  3.930912069517222e+123 intercept:  2.4405702599161873e+122 mse:  2.5361872064455213e+248 iteration:  210\n",
      "slope:  -1.514171337428017e+124 intercept:  -9.400977353833802e+122 mse:  3.763090742188972e+249 iteration:  211\n",
      "slope:  5.832526392202233e+124 intercept:  3.621218231608339e+123 mse:  5.583519977531492e+250 iteration:  212\n",
      "slope:  -2.2466654383723476e+125 intercept:  -1.3948785309630524e+124 mse:  8.284598346240915e+251 iteration:  213\n",
      "slope:  8.654063869689556e+125 intercept:  5.373015354773251e+124 mse:  1.229234784414285e+253 iteration:  214\n",
      "slope:  -3.3335101961119835e+126 intercept:  -2.069663656139088e+125 mse:  1.8238882466760108e+254 iteration:  215\n",
      "slope:  1.2840545661446775e+127 intercept:  7.972260205319643e+125 mse:  2.706210708109733e+255 iteration:  216\n",
      "slope:  -4.946125950837224e+127 intercept:  -3.070882198312707e+126 mse:  4.0153646529795914e+256 iteration:  217\n",
      "slope:  1.9052275944158736e+128 intercept:  1.182891329816522e+127 mse:  5.957833677947354e+257 iteration:  218\n",
      "slope:  -7.338859185155345e+128 intercept:  -4.556449280027428e+127 mse:  8.839989690038266e+258 iteration:  219\n",
      "slope:  2.8268987021496306e+129 intercept:  1.7551257261039153e+128 mse:  1.3116414781640272e+260 iteration:  220\n",
      "slope:  -1.0889098796690037e+130 intercept:  -6.760672894867057e+128 mse:  1.946159925026865e+261 iteration:  221\n",
      "slope:  4.194436557415782e+130 intercept:  2.6041836953100393e+129 mse:  2.8876324184884652e+262 iteration:  222\n",
      "slope:  -1.615679898095313e+131 intercept:  -1.0031209650843508e+130 mse:  4.284550759203633e+263 iteration:  223\n",
      "slope:  6.2235332383178955e+131 intercept:  3.8639811485032753e+130 mse:  6.357241001540496e+264 iteration:  224\n",
      "slope:  -2.3972796848007028e+132 intercept:  -1.4883898189420475e+131 mse:  9.432613924541168e+265 iteration:  225\n",
      "slope:  9.234223819637621e+132 intercept:  5.733217031838901e+131 mse:  1.399572635800461e+267 iteration:  226\n",
      "slope:  -3.5569854486232715e+133 intercept:  -2.208411876771074e+132 mse:  2.0766285767142034e+268 iteration:  227\n",
      "slope:  1.3701363242692338e+134 intercept:  8.506712706634161e+132 mse:  3.0812164623093423e+269 iteration:  228\n",
      "slope:  -5.277709381151965e+134 intercept:  -3.2767511275575537e+133 mse:  4.571782837847703e+270 iteration:  229\n",
      "slope:  2.0329521828242594e+135 intercept:  1.2621912038449496e+134 mse:  6.783424200185389e+271 iteration:  230\n",
      "slope:  -7.830849103608342e+135 intercept:  -4.8619091687047264e+134 mse:  1.0064967106207425e+273 iteration:  231\n",
      "slope:  3.0164112172226446e+136 intercept:  1.8727876325494394e+135 mse:  1.493398611961624e+274 iteration:  232\n",
      "slope:  -1.1619093294996617e+137 intercept:  -7.213901771769483e+135 mse:  2.215843718787154e+275 iteration:  233\n",
      "slope:  4.475627468397345e+137 intercept:  2.778765614865576e+136 mse:  3.287778190471933e+276 iteration:  234\n",
      "slope:  -1.7239934930635787e+138 intercept:  -1.070369210262377e+137 mse:  4.8782706731950825e+277 iteration:  235\n",
      "slope:  6.640752799718257e+138 intercept:  4.123018653133607e+137 mse:  7.238178302271435e+278 iteration:  236\n",
      "slope:  -2.557990962518066e+139 intercept:  -1.5881700119083837e+138 mse:  1.0739712624670487e+280 iteration:  237\n",
      "slope:  9.853277123343171e+139 intercept:  6.11756627588398e+138 mse:  1.59351458949707e+281 iteration:  238\n",
      "slope:  -3.795442262775868e+140 intercept:  -2.3564616419663215e+139 mse:  2.3643917073785995e+282 iteration:  239\n",
      "slope:  1.4619889189899815e+141 intercept:  9.07699437920061e+139 mse:  3.508187614200045e+283 iteration:  240\n",
      "slope:  -5.631521839265864e+141 intercept:  -3.4964213078082844e+140 mse:  5.2053051522802816e+284 iteration:  241\n",
      "slope:  2.1692393023086721e+142 intercept:  1.3468072636145467e+141 mse:  7.723418673129897e+285 iteration:  242\n",
      "slope:  -8.355821543425014e+142 intercept:  -5.187846788583761e+141 mse:  1.1459692420591376e+287 iteration:  243\n",
      "slope:  3.21862846534534e+143 intercept:  1.9983374777462955e+142 mse:  1.700342243926814e+288 iteration:  244\n",
      "slope:  -1.239802590815619e+144 intercept:  -7.697514667844647e+142 mse:  2.522898207361202e+289 iteration:  245\n",
      "slope:  4.7756691421300744e+144 intercept:  2.9650513349980814e+143 mse:  3.74337306941621e+290 iteration:  246\n",
      "slope:  -1.8395683251548561e+145 intercept:  -1.1421257118092101e+144 mse:  5.554263701937908e+291 iteration:  247\n",
      "slope:  7.085942351114559e+145 intercept:  4.399421777891541e+144 mse:  8.241189082304351e+292 iteration:  248\n",
      "slope:  -2.7294761665942553e+146 intercept:  -1.6946393711009965e+145 mse:  1.2227938955544333e+294 iteration:  249\n",
      "slope:  1.0513831153077675e+147 intercept:  6.52768191610379e+145 mse:  1.8143315194839588e+295 iteration:  250\n",
      "slope:  -4.049884987761419e+147 intercept:  -2.5144365181451316e+146 mse:  2.692030827566749e+296 iteration:  251\n",
      "slope:  1.5599992215296462e+148 intercept:  9.68550717550203e+146 mse:  3.994325126772283e+297 iteration:  252\n",
      "slope:  -6.009053537390149e+148 intercept:  -3.730817961389739e+147 mse:  5.926616090345953e+298 iteration:  253\n",
      "slope:  2.314662976550393e+149 intercept:  1.4370959010008504e+148 mse:  8.79367031164311e+299 iteration:  254\n",
      "slope:  -8.9159876204732e+149 intercept:  -5.535634946670345e+148 mse:  1.3047687984351893e+301 iteration:  255\n",
      "slope:  3.434402159354737e+150 intercept:  2.1323040613682662e+149 mse:  1.935962524221478e+302 iteration:  256\n",
      "slope:  -1.3229177399367543e+151 intercept:  -8.213548497923308e+149 mse:  2.87250193266801e+303 iteration:  257\n",
      "slope:  5.095825315251329e+151 intercept:  3.1638254670137794e+150 mse:  4.2621007638046066e+304 iteration:  258\n",
      "slope:  -1.9628911805807172e+152 intercept:  -1.2186926988080482e+151 mse:  6.323930617498834e+305 iteration:  259\n",
      "slope:  7.560976973190323e+152 intercept:  4.694354696910264e+151 mse:  9.383189340469707e+306 iteration:  260\n",
      "slope:  -2.912457570480353e+153 intercept:  -1.8082463316598905e+152 mse:  inf iteration:  261\n",
      "slope:  1.1218668076791146e+154 intercept:  6.965291306414366e+152 mse:  inf iteration:  262\n",
      "slope:  -4.3213853033558493e+154 intercept:  -2.683001875008736e+153 mse:  inf iteration:  263\n",
      "slope:  1.6645800385781015e+155 intercept:  1.0334814072558988e+154 mse:  inf iteration:  264\n",
      "slope:  -6.411894590100398e+155 intercept:  -3.980928336623524e+154 mse:  inf iteration:  265\n",
      "slope:  2.4698357112150235e+156 intercept:  1.533437400041014e+155 mse:  inf iteration:  266\n",
      "slope:  -9.51370668165882e+156 intercept:  -5.906738481604876e+155 mse:  inf iteration:  267\n",
      "slope:  3.664641110080696e+157 intercept:  2.275251633300368e+156 mse:  inf iteration:  268\n",
      "slope:  -1.4116048470975012e+158 intercept:  -8.764176729607727e+156 mse:  inf iteration:  269\n",
      "slope:  5.437444444062577e+158 intercept:  3.375925221790945e+157 mse:  inf iteration:  270\n",
      "slope:  -2.0944814792226936e+159 intercept:  -1.3003926614832604e+158 mse:  inf iteration:  271\n"
     ]
    },
    {
     "name": "stdout",
     "output_type": "stream",
     "text": [
      "slope:  8.067857450198155e+159 intercept:  5.009059629414485e+158 mse:  inf iteration:  272\n",
      "slope:  -3.107705868130869e+160 intercept:  -1.9294693913768267e+159 mse:  inf iteration:  273\n",
      "slope:  1.197075657624297e+161 intercept:  7.432237600843317e+159 mse:  inf iteration:  274\n",
      "slope:  -4.611086733695668e+161 intercept:  -2.862867687990246e+160 mse:  inf iteration:  275\n",
      "slope:  1.7761718509806434e+162 intercept:  1.1027649866856561e+161 mse:  inf iteration:  276\n",
      "slope:  -6.841741711693036e+162 intercept:  -4.247805865989987e+161 mse:  inf iteration:  277\n",
      "slope:  2.6354110737469672e+163 intercept:  1.6362375386408917e+162 mse:  inf iteration:  278\n",
      "slope:  -1.0151496242189268e+164 intercept:  -6.302720433372829e+162 mse:  inf iteration:  279\n",
      "slope:  3.9103150541393375e+164 intercept:  2.427782270186243e+163 mse:  inf iteration:  280\n",
      "slope:  -1.5062374508973047e+165 intercept:  -9.351718537635494e+163 mse:  inf iteration:  281\n",
      "slope:  5.801965384052573e+165 intercept:  3.6022439360036353e+164 mse:  inf iteration:  282\n",
      "slope:  -2.234893462361497e+166 intercept:  -1.3875697094874157e+165 mse:  inf iteration:  283\n",
      "slope:  8.608718697003694e+166 intercept:  5.344862071786823e+165 mse:  inf iteration:  284\n",
      "slope:  -3.3160434200667766e+167 intercept:  -2.058819126066e+166 mse:  inf iteration:  285\n",
      "slope:  1.2773264350704622e+168 intercept:  7.930487516655649e+166 mse:  inf iteration:  286\n",
      "slope:  -4.920209463653405e+168 intercept:  -3.054791528579133e+167 mse:  inf iteration:  287\n",
      "slope:  1.8952446689862096e+169 intercept:  1.1766932692952664e+168 mse:  inf iteration:  288\n",
      "slope:  -7.300405362525994e+169 intercept:  -4.532574603049269e+168 mse:  inf iteration:  289\n",
      "slope:  2.8120864461107787e+170 intercept:  1.74592929765897e+169 mse:  inf iteration:  290\n",
      "slope:  -1.0832042589021089e+171 intercept:  -6.725248626626546e+169 mse:  inf iteration:  291\n",
      "slope:  4.1724587383379636e+171 intercept:  2.590538411296925e+170 mse:  inf iteration:  292\n",
      "slope:  -1.607214131596777e+172 intercept:  -9.978648571942905e+170 mse:  inf iteration:  293\n",
      "slope:  6.190923450170139e+172 intercept:  3.8437348347399263e+171 mse:  inf iteration:  294\n",
      "slope:  -2.3847185270694397e+173 intercept:  -1.4805910212465287e+172 mse:  inf iteration:  295\n",
      "slope:  9.185838751070247e+173 intercept:  5.7031763803867195e+172 mse:  inf iteration:  296\n",
      "slope:  -3.538347717051421e+174 intercept:  -2.1968403400431757e+173 mse:  inf iteration:  297\n",
      "slope:  1.3629571458898413e+175 intercept:  8.462139617911953e+173 mse:  inf iteration:  298\n",
      "slope:  -5.250055478098128e+175 intercept:  -3.259581755114152e+174 mse:  inf iteration:  299\n",
      "slope:  2.022300011869625e+176 intercept:  1.2555776314282516e+175 mse:  inf iteration:  300\n",
      "slope:  -7.789817374443077e+176 intercept:  -4.836433956809187e+175 mse:  inf iteration:  301\n",
      "slope:  3.0006059620736063e+177 intercept:  1.8629746845656226e+176 mse:  inf iteration:  302\n",
      "slope:  -1.1558212095152458e+178 intercept:  -7.176102695346509e+176 mse:  inf iteration:  303\n",
      "slope:  4.452176277894482e+178 intercept:  2.7642055644017794e+177 mse:  inf iteration:  304\n",
      "slope:  -1.7149601898860897e+179 intercept:  -1.0647607380569698e+178 mse:  inf iteration:  305\n",
      "slope:  6.605956883371721e+179 intercept:  4.101415046362438e+178 mse:  inf iteration:  306\n",
      "slope:  -2.5445877170982464e+180 intercept:  -1.5798483904679975e+179 mse:  inf iteration:  307\n",
      "slope:  9.801648367257318e+180 intercept:  6.085511728636101e+179 mse:  inf iteration:  308\n",
      "slope:  -3.77555507596788e+181 intercept:  -2.3441143607708574e+180 mse:  inf iteration:  309\n",
      "slope:  1.4543284555366666e+182 intercept:  9.029433154348199e+180 mse:  inf iteration:  310\n",
      "slope:  -5.602014045686932e+182 intercept:  -3.4781009174838766e+181 mse:  inf iteration:  311\n",
      "slope:  2.157873020265775e+183 intercept:  1.33975032379266e+182 mse:  inf iteration:  312\n",
      "slope:  -8.312039087399251e+183 intercept:  -5.1606637434805193e+182 mse:  inf iteration:  313\n",
      "slope:  3.201763641400155e+184 intercept:  1.9878666793586847e+183 mse:  inf iteration:  314\n",
      "slope:  -1.2333063292414686e+185 intercept:  -7.657181578428953e+183 mse:  inf iteration:  315\n",
      "slope:  4.7506458068275816e+185 intercept:  2.9495151930383684e+184 mse:  inf iteration:  316\n",
      "slope:  -1.8299294381963547e+186 intercept:  -1.1361412531305146e+185 mse:  inf iteration:  317\n",
      "slope:  7.048813750679941e+186 intercept:  4.37636988652116e+185 mse:  inf iteration:  318\n",
      "slope:  -2.7151743807535406e+187 intercept:  -1.6857598763249083e+186 mse:  inf iteration:  319\n",
      "slope:  1.0458741255844986e+188 intercept:  6.4934784634622105e+186 mse:  inf iteration:  320\n",
      "slope:  -4.028664583464298e+188 intercept:  -2.5012614873341995e+187 mse:  inf iteration:  321\n",
      "slope:  1.5518252081233164e+189 intercept:  9.634757492805378e+187 mse:  inf iteration:  322\n",
      "slope:  -5.977567570284461e+189 intercept:  -3.711269390075022e+188 mse:  inf iteration:  323\n",
      "slope:  2.3025347101126016e+190 intercept:  1.4295658708579862e+189 mse:  inf iteration:  324\n",
      "slope:  -8.869270031557378e+190 intercept:  -5.506629576896978e+189 mse:  inf iteration:  325\n",
      "slope:  3.4164067341610197e+191 intercept:  2.1211313109313098e+190 mse:  inf iteration:  326\n",
      "slope:  -1.3159859753611848e+192 intercept:  -8.170511517770374e+190 mse:  inf iteration:  327\n",
      "slope:  5.069124440104518e+192 intercept:  3.147247797342057e+191 mse:  inf iteration:  328\n",
      "slope:  -1.9526061120987582e+193 intercept:  -1.2123070478918342e+192 mse:  inf iteration:  329\n",
      "slope:  7.521359307815328e+193 intercept:  4.669757429362277e+192 mse:  inf iteration:  330\n",
      "slope:  -2.8971970069506295e+194 intercept:  -1.7987715642670954e+193 mse:  inf iteration:  331\n",
      "slope:  1.1159885006905425e+195 intercept:  6.928794887870135e+193 mse:  inf iteration:  332\n",
      "slope:  -4.2987423039773576e+195 intercept:  -2.6689436030603548e+194 mse:  inf iteration:  333\n",
      "slope:  1.6558580473338345e+196 intercept:  1.0280662180932925e+195 mse:  inf iteration:  334\n",
      "slope:  -6.37829783465583e+196 intercept:  -3.9600692482700765e+195 mse:  inf iteration:  335\n",
      "slope:  2.4568943776962113e+197 intercept:  1.5254025640662816e+196 mse:  inf iteration:  336\n",
      "slope:  -9.463857191424132e+197 intercept:  -5.8757886203036775e+196 mse:  inf iteration:  337\n",
      "slope:  3.645439289240162e+198 intercept:  2.263329872637479e+197 mse:  inf iteration:  338\n",
      "slope:  -1.4042083838266408e+199 intercept:  -8.718254592535754e+197 mse:  inf iteration:  339\n",
      "slope:  5.408953568446396e+199 intercept:  3.358236201411418e+198 mse:  inf iteration:  340\n",
      "slope:  -2.08350690984202e+200 intercept:  -1.2935789227955999e+199 mse:  inf iteration:  341\n",
      "slope:  8.025583855411612e+200 intercept:  4.9828133851863706e+199 mse:  inf iteration:  342\n",
      "slope:  -3.091422251396676e+201 intercept:  -1.9193594448752192e+200 mse:  inf iteration:  343\n",
      "slope:  1.1908032747033517e+202 intercept:  7.393294498212314e+200 mse:  inf iteration:  344\n",
      "slope:  -4.586925769857486e+202 intercept:  -2.8478669632852484e+201 mse:  inf iteration:  345\n",
      "slope:  1.7668651460018923e+203 intercept:  1.0969867685552914e+202 mse:  inf iteration:  346\n",
      "slope:  -6.805892662730578e+203 intercept:  -4.22554840482149e+202 mse:  inf iteration:  347\n",
      "slope:  2.621602165927852e+204 intercept:  1.6276640551466674e+203 mse:  inf iteration:  348\n",
      "slope:  -1.0098304891044502e+205 intercept:  -6.269695723739823e+203 mse:  inf iteration:  349\n",
      "slope:  3.889825962071612e+205 intercept:  2.4150612863868487e+204 mse:  inf iteration:  350\n",
      "slope:  -1.4983451359866118e+206 intercept:  -9.302717825555727e+204 mse:  inf iteration:  351\n",
      "slope:  5.771564508092013e+206 intercept:  3.583369061055375e+205 mse:  inf iteration:  352\n",
      "slope:  -2.2231831686184375e+207 intercept:  -1.3802991844441773e+206 mse:  inf iteration:  353\n",
      "slope:  8.563611121904002e+207 intercept:  5.316856305100018e+206 mse:  inf iteration:  354\n",
      "slope:  -3.2986681656451672e+208 intercept:  -2.0480314186713986e+207 mse:  inf iteration:  355\n",
      "slope:  1.2706335577533283e+209 intercept:  7.888933706637531e+207 mse:  inf iteration:  356\n",
      "slope:  -4.894428772507671e+209 intercept:  -3.0387851700095066e+208 mse:  inf iteration:  357\n",
      "slope:  1.8853140516379688e+210 intercept:  1.1705276850913697e+209 mse:  inf iteration:  358\n",
      "slope:  -7.262153028498288e+210 intercept:  -4.508825023524363e+209 mse:  inf iteration:  359\n",
      "slope:  2.7973518026615836e+211 intercept:  1.736781056244099e+210 mse:  inf iteration:  360\n",
      "slope:  -1.077528534189006e+212 intercept:  -6.690009972865533e+210 mse:  inf iteration:  361\n",
      "slope:  4.150596077643119e+212 intercept:  2.576964625226196e+211 mse:  inf iteration:  362\n",
      "slope:  -1.5987927236388742e+213 intercept:  -9.926362900207686e+211 mse:  inf iteration:  363\n",
      "slope:  6.158484529316308e+213 intercept:  3.8235946066962695e+212 mse:  inf iteration:  364\n",
      "slope:  -2.3722231867246733e+214 intercept:  -1.472833087338658e+213 mse:  inf iteration:  365\n",
      "slope:  9.137707208398074e+214 intercept:  5.673293134582135e+213 mse:  inf iteration:  366\n",
      "slope:  -3.519807642623008e+215 intercept:  -2.1853294353303726e+214 mse:  inf iteration:  367\n",
      "slope:  1.3558155846448108e+216 intercept:  8.417800081245258e+214 mse:  inf iteration:  368\n",
      "slope:  -5.22254647471551e+216 intercept:  -3.2425023459723974e+215 mse:  inf iteration:  369\n",
      "slope:  2.0117036556788622e+217 intercept:  1.2489987125093583e+216 mse:  inf iteration:  370\n"
     ]
    },
    {
     "name": "stdout",
     "output_type": "stream",
     "text": [
      "slope:  -7.749000641477586e+217 intercept:  -4.8110922287774153e+216 mse:  inf iteration:  371\n",
      "slope:  2.9848835225860735e+218 intercept:  1.8532131540230887e+217 mse:  inf iteration:  372\n",
      "slope:  -1.1497649897867307e+219 intercept:  -7.138501676815594e+217 mse:  inf iteration:  373\n",
      "slope:  4.4288479658795806e+219 intercept:  2.7497218050322637e+218 mse:  inf iteration:  374\n",
      "slope:  -1.7059742190022688e+220 intercept:  -1.0591816528707122e+219 mse:  inf iteration:  375\n",
      "slope:  6.571343289094818e+220 intercept:  4.079924637193508e+219 mse:  inf iteration:  376\n",
      "slope:  -2.5312547013979275e+221 intercept:  -1.5715703722834819e+220 mse:  inf iteration:  377\n",
      "slope:  9.750290133193894e+221 intercept:  6.053625139355971e+220 mse:  inf iteration:  378\n",
      "slope:  -3.755772093142394e+222 intercept:  -2.3318317763012834e+221 mse:  inf iteration:  379\n",
      "slope:  1.4467081310334882e+223 intercept:  8.982121138651924e+221 mse:  inf iteration:  380\n",
      "slope:  -5.572660865710993e+223 intercept:  -3.459876521512576e+222 mse:  inf iteration:  381\n",
      "slope:  2.146566294753752e+224 intercept:  1.3327303606050654e+223 mse:  inf iteration:  382\n",
      "slope:  -8.26848604070753e+224 intercept:  -5.133623130868291e+223 mse:  inf iteration:  383\n",
      "slope:  3.1849871849971585e+225 intercept:  1.977450745387167e+224 mse:  inf iteration:  384\n",
      "slope:  -1.2268441064850723e+226 intercept:  -7.617059824512051e+224 mse:  inf iteration:  385\n",
      "slope:  4.725753587666313e+226 intercept:  2.934060456653037e+225 mse:  inf iteration:  386\n",
      "slope:  -1.820341056642046e+227 intercept:  -1.1301881515478962e+226 mse:  inf iteration:  387\n",
      "slope:  7.011879695007613e+227 intercept:  4.3534387814092e+226 mse:  inf iteration:  388\n",
      "slope:  -2.7009475327638123e+228 intercept:  -1.6769269079241826e+227 mse:  inf iteration:  389\n",
      "slope:  1.0403940016165671e+229 intercept:  6.459454228525738e+227 mse:  inf iteration:  390\n",
      "slope:  -4.007555368882419e+229 intercept:  -2.4881554904541794e+228 mse:  inf iteration:  391\n",
      "slope:  1.5436940245429566e+230 intercept:  9.58427372600216e+228 mse:  inf iteration:  392\n",
      "slope:  -5.946246581926008e+230 intercept:  -3.691823248480658e+229 mse:  inf iteration:  393\n",
      "slope:  2.2904699928170783e+231 intercept:  1.4220752962266982e+230 mse:  inf iteration:  394\n",
      "slope:  -8.822797231352267e+231 intercept:  -5.477776188149072e+230 mse:  inf iteration:  395\n",
      "slope:  3.3985056005828155e+232 intercept:  2.1100171029670705e+231 mse:  inf iteration:  396\n",
      "slope:  -1.309090531532314e+233 intercept:  -8.127700040840717e+231 mse:  inf iteration:  397\n",
      "slope:  5.042563470996392e+233 intercept:  3.130756990594551e+232 mse:  inf iteration:  398\n",
      "slope:  -1.942374934853734e+234 intercept:  -1.2059548562206516e+233 mse:  inf iteration:  399\n",
      "slope:  7.481949229292598e+234 intercept:  4.645289045464963e+233 mse:  inf iteration:  400\n",
      "slope:  -2.882016405031891e+235 intercept:  -1.7893464423322128e+234 mse:  inf iteration:  401\n",
      "slope:  1.1101409945892214e+236 intercept:  6.892489701610105e+234 mse:  inf iteration:  402\n",
      "slope:  -4.276217948363513e+236 intercept:  -2.654958993009873e+235 mse:  inf iteration:  403\n",
      "slope:  1.6471817571850425e+237 intercept:  1.0226794031940865e+236 mse:  inf iteration:  404\n",
      "slope:  -6.344877117971818e+237 intercept:  -3.939319456424922e+236 mse:  inf iteration:  405\n",
      "slope:  2.4440208535918054e+238 intercept:  1.5174098286619029e+237 mse:  inf iteration:  406\n",
      "slope:  -9.414268900295112e+238 intercept:  -5.8450009286867505e+237 mse:  inf iteration:  407\n",
      "slope:  3.62633808123252e+239 intercept:  2.2514705790772318e+238 mse:  inf iteration:  408\n",
      "slope:  -1.3968506762096976e+240 intercept:  -8.672573076201874e+238 mse:  inf iteration:  409\n",
      "slope:  5.3806119780324464e+240 intercept:  3.3406398671613084e+239 mse:  inf iteration:  410\n",
      "slope:  -2.0725898445139218e+241 intercept:  -1.2868008864279256e+240 mse:  inf iteration:  411\n",
      "slope:  7.983531763896203e+241 intercept:  4.9567046648423985e+240 mse:  inf iteration:  412\n",
      "slope:  -3.075223956821405e+242 intercept:  -1.909302472014306e+241 mse:  inf iteration:  413\n",
      "slope:  1.1845637575309149e+243 intercept:  7.354555447890194e+241 mse:  inf iteration:  414\n",
      "slope:  -4.562891403545511e+243 intercept:  -2.832944838699505e+242 mse:  inf iteration:  415\n",
      "slope:  1.757607205875211e+244 intercept:  1.0912388268711015e+243 mse:  inf iteration:  416\n",
      "slope:  -6.770231453994442e+244 intercept:  -4.203407567291953e+243 mse:  inf iteration:  417\n",
      "slope:  2.6078656133997455e+245 intercept:  1.6191354946037206e+244 mse:  inf iteration:  418\n",
      "slope:  -1.0045392249537136e+246 intercept:  -6.236844055487591e+244 mse:  inf iteration:  419\n",
      "slope:  3.869444227822364e+246 intercept:  2.4024069574233567e+245 mse:  inf iteration:  420\n",
      "slope:  -1.490494174870843e+247 intercept:  -9.253973865192201e+245 mse:  inf iteration:  421\n",
      "slope:  5.74132292526714e+247 intercept:  3.564593085823693e+246 mse:  inf iteration:  422\n",
      "slope:  -2.2115342339432083e+248 intercept:  -1.3730667551694202e+247 mse:  inf iteration:  423\n",
      "slope:  8.51873989943738e+248 intercept:  5.2889972817635934e+247 mse:  inf iteration:  424\n",
      "slope:  -3.281383953296285e+249 intercept:  -2.0373002362183816e+248 mse:  inf iteration:  425\n",
      "slope:  1.2639757494722313e+250 intercept:  7.84759762839484e+248 mse:  inf iteration:  426\n",
      "slope:  -4.86878316586207e+250 intercept:  -3.022862680834e+249 mse:  inf iteration:  427\n",
      "slope:  1.8754354682896288e+251 intercept:  1.1643944070368889e+250 mse:  inf iteration:  428\n",
      "slope:  -7.224101127321349e+251 intercept:  -4.485199885972735e+250 mse:  inf iteration:  429\n",
      "slope:  2.7826943651311027e+252 intercept:  1.727680749371077e+251 mse:  inf iteration:  430\n",
      "slope:  -1.0718825488817026e+253 intercept:  -6.654955961009653e+251 mse:  inf iteration:  431\n",
      "slope:  4.128847971929554e+253 intercept:  2.5634619624661615e+252 mse:  inf iteration:  432\n",
      "slope:  -1.590415441793727e+254 intercept:  -9.874351192571823e+252 mse:  inf iteration:  433\n",
      "slope:  6.126215580453669e+254 intercept:  3.803559908509143e+253 mse:  inf iteration:  434\n",
      "slope:  -2.359793318899434e+255 intercept:  -1.4651158031022044e+254 mse:  inf iteration:  435\n",
      "slope:  9.089827863207562e+255 intercept:  5.643566469658141e+254 mse:  inf iteration:  436\n",
      "slope:  -3.5013647136385395e+256 intercept:  -2.173878844935771e+255 mse:  inf iteration:  437\n",
      "slope:  1.3487114434295804e+257 intercept:  8.37369287287856e+255 mse:  inf iteration:  438\n",
      "slope:  -5.195181611765363e+257 intercept:  -3.2255124287466424e+256 mse:  inf iteration:  439\n",
      "slope:  2.0011628217962957e+258 intercept:  1.2424542655124377e+257 mse:  inf iteration:  440\n",
      "slope:  -7.708397778184506e+258 intercept:  -4.7858832851866986e+257 mse:  inf iteration:  441\n",
      "slope:  2.969243464826287e+259 intercept:  1.8435027715070552e+258 mse:  inf iteration:  442\n",
      "slope:  -1.1437405031645978e+260 intercept:  -7.101097678401946e+258 mse:  inf iteration:  443\n",
      "slope:  4.405641888499496e+260 intercept:  2.7353139370104023e+259 mse:  inf iteration:  444\n",
      "slope:  -1.6970353324025044e+261 intercept:  -1.0536318007228295e+260 mse:  inf iteration:  445\n",
      "slope:  6.5369110615646185e+261 intercept:  4.0585468324991396e+260 mse:  inf iteration:  446\n",
      "slope:  -2.5179915474306015e+262 intercept:  -1.56333572888447e+261 mse:  inf iteration:  447\n",
      "slope:  9.69920100368384e+262 intercept:  6.0219056279850225e+261 mse:  inf iteration:  448\n",
      "slope:  -3.7360927682960945e+263 intercept:  -2.31961354956262e+262 mse:  inf iteration:  449\n",
      "slope:  1.4391277351621904e+264 intercept:  8.935057026316915e+262 mse:  inf iteration:  450\n",
      "slope:  -5.543461489200681e+264 intercept:  -3.441747616907513e+263 mse:  inf iteration:  451\n",
      "slope:  2.1353188137109828e+265 intercept:  1.3257471803032679e+264 mse:  inf iteration:  452\n",
      "slope:  -8.225161201301199e+265 intercept:  -5.1067242044357455e+264 mse:  inf iteration:  453\n",
      "slope:  3.1682986331121e+266 intercept:  1.967089388355656e+265 mse:  inf iteration:  454\n",
      "slope:  -1.2204157441913722e+267 intercept:  -7.577148298747757e+265 mse:  inf iteration:  455\n",
      "slope:  4.700991797629837e+267 intercept:  2.918686699296836e+266 mse:  inf iteration:  456\n",
      "slope:  -1.8108029158559946e+268 intercept:  -1.1242662427578613e+267 mse:  inf iteration:  457\n",
      "slope:  6.975139164730715e+268 intercept:  4.33062782966528e+267 mse:  inf iteration:  458\n"
     ]
    },
    {
     "name": "stdout",
     "output_type": "stream",
     "text": [
      "slope:  -2.6867952299691027e+269 intercept:  -1.668140222112017e+268 mse:  inf iteration:  459\n",
      "slope:  1.0349425921544919e+270 intercept:  6.425608272237531e+268 mse:  inf iteration:  460\n",
      "slope:  -3.9865567614089316e+270 intercept:  -2.4751181657841968e+269 mse:  inf iteration:  461\n",
      "slope:  1.535605446370776e+271 intercept:  9.534054481758282e+269 mse:  inf iteration:  462\n",
      "slope:  -5.915089707866583e+271 intercept:  -3.6724789999000163e+270 mse:  inf iteration:  463\n",
      "slope:  2.27846849168189e+272 intercept:  1.4146239703697733e+271 mse:  inf iteration:  464\n",
      "slope:  -8.776567937225004e+272 intercept:  -5.449073984083292e+271 mse:  inf iteration:  465\n",
      "slope:  3.380698264555168e+273 intercept:  2.0989611307273388e+272 mse:  inf iteration:  466\n",
      "slope:  -1.3022312181383299e+274 intercept:  -8.085112885552711e+272 mse:  inf iteration:  467\n",
      "slope:  5.0161416748535896e+274 intercept:  3.1143525916308234e+273 mse:  inf iteration:  468\n",
      "slope:  -1.932197366468768e+275 intercept:  -1.199635948476256e+274 mse:  inf iteration:  469\n",
      "slope:  7.442745649917898e+275 intercept:  4.620948869899573e+274 mse:  inf iteration:  470\n",
      "slope:  -2.866915345744893e+276 intercept:  -1.779970705725212e+275 mse:  inf iteration:  471\n",
      "slope:  1.1043241279860512e+277 intercept:  6.85637474562397e+275 mse:  inf iteration:  472\n",
      "slope:  -4.253811614850068e+277 intercept:  -2.6410476588870043e+276 mse:  inf iteration:  473\n",
      "slope:  1.638550928669187e+278 intercept:  1.0173208138840938e+277 mse:  inf iteration:  474\n",
      "slope:  -6.311631517648406e+278 intercept:  -3.918678388401149e+277 mse:  inf iteration:  475\n",
      "slope:  2.431214783597092e+279 intercept:  1.5094589732312094e+278 mse:  inf iteration:  476\n",
      "slope:  -9.364940439652455e+279 intercept:  -5.81437455702469e+278 mse:  inf iteration:  477\n",
      "slope:  3.607336958871182e+280 intercept:  2.2396734253073168e+279 mse:  inf iteration:  478\n",
      "slope:  -1.3895315211765415e+281 intercept:  -8.627130919812374e+279 mse:  inf iteration:  479\n",
      "slope:  5.352418890602845e+281 intercept:  3.3231357333880116e+280 mse:  inf iteration:  480\n",
      "slope:  -2.0617299819312555e+282 intercept:  -1.2800583653088285e+281 mse:  inf iteration:  481\n",
      "slope:  7.941700015029078e+282 intercept:  4.9307327477911136e+281 mse:  inf iteration:  482\n",
      "slope:  -3.0591105373378533e+283 intercept:  -1.8992981952251944e+282 mse:  inf iteration:  483\n",
      "slope:  1.1783569338985191e+284 intercept:  7.316019380692867e+282 mse:  inf iteration:  484\n",
      "slope:  -4.538982971419734e+284 intercept:  -2.8181009023876563e+283 mse:  inf iteration:  485\n",
      "slope:  1.7483977750847276e+285 intercept:  1.0855210029919298e+284 mse:  inf iteration:  486\n",
      "slope:  -6.73475710124788e+285 intercept:  -4.181382742322091e+284 mse:  inf iteration:  487\n",
      "slope:  2.594201037038653e+286 intercept:  1.6106516216267992e+285 mse:  inf iteration:  488\n",
      "slope:  -9.992756857296975e+286 intercept:  -6.204164521921694e+285 mse:  inf iteration:  489\n",
      "slope:  3.84916928886294e+287 intercept:  2.3898189340407665e+286 mse:  inf iteration:  490\n",
      "slope:  -1.4826843508662493e+288 intercept:  -9.205485311228867e+286 mse:  inf iteration:  491\n",
      "slope:  5.711239800920976e+288 intercept:  3.54591549209832e+287 mse:  inf iteration:  492\n",
      "slope:  -2.1999463368293357e+289 intercept:  -1.3658722220506573e+288 mse:  inf iteration:  493\n",
      "slope:  8.474103791173974e+289 intercept:  5.261284232878364e+288 mse:  inf iteration:  494\n",
      "slope:  -3.264190305981992e+290 intercept:  -2.0266252825301117e+289 mse:  inf iteration:  495\n",
      "slope:  1.2573528264740203e+291 intercept:  7.806478141066465e+289 mse:  inf iteration:  496\n",
      "slope:  -4.8432719359069436e+291 intercept:  -3.0070236215975472e+290 mse:  inf iteration:  497\n",
      "slope:  1.865608646295788e+292 intercept:  1.1582932658555233e+291 mse:  inf iteration:  498\n",
      "slope:  -7.186248608776185e+292 intercept:  -4.4616985383489505e+291 mse:  inf iteration:  499\n",
      "slope:  2.768113728979251e+293 intercept:  1.7186281258746583e+292 mse:  inf iteration:  500\n",
      "slope:  -1.0662661471530034e+294 intercept:  -6.620085623580587e+292 mse:  inf iteration:  501\n",
      "slope:  4.107213820957254e+294 intercept:  2.550030050348113e+293 mse:  inf iteration:  502\n",
      "slope:  -1.5820820548513243e+295 intercept:  -9.82261201353061e+293 mse:  inf iteration:  503\n",
      "slope:  6.094115712970668e+295 intercept:  3.7836301872279734e+294 mse:  inf iteration:  504\n",
      "slope:  -2.3474285805337737e+296 intercept:  -1.4574389555428592e+295 mse:  inf iteration:  505\n",
      "slope:  9.04219939404575e+296 intercept:  5.613995565169317e+295 mse:  inf iteration:  506\n",
      "slope:  -3.483018421079712e+297 intercept:  -2.1624882528271318e+296 mse:  inf iteration:  507\n",
      "slope:  1.3416445261723713e+298 intercept:  8.329816775468548e+296 mse:  inf iteration:  508\n",
      "slope:  -5.167960133987162e+298 intercept:  -3.2086115345211963e+297 mse:  inf iteration:  509\n",
      "slope:  1.9906772192986425e+299 intercept:  1.2359441098130712e+298 mse:  inf iteration:  510\n",
      "slope:  -7.668007663939189e+299 intercept:  -4.760806430279118e+298 mse:  inf iteration:  511\n",
      "slope:  2.9536853571341924e+300 intercept:  1.8338432690144028e+299 mse:  inf iteration:  512\n",
      "slope:  -1.1377475833751504e+301 intercept:  -7.063889667768461e+299 mse:  inf iteration:  513\n",
      "slope:  4.382557405274715e+301 intercept:  2.720981562684142e+300 mse:  inf iteration:  514\n",
      "slope:  -1.6881432833766927e+302 intercept:  -1.0481110284393683e+301 mse:  inf iteration:  515\n",
      "slope:  6.5026592504638355e+302 intercept:  4.0372810422594967e+301 mse:  inf iteration:  516\n",
      "slope:  -2.5047978891379156e+303 intercept:  -1.5551442329977197e+302 mse:  inf iteration:  517\n",
      "slope:  9.648379568685272e+303 intercept:  5.990352319075982e+302 mse:  inf iteration:  518\n",
      "slope:  -3.716516558286582e+304 intercept:  -2.3074593433361356e+303 mse:  inf iteration:  519\n",
      "slope:  1.4315870587065313e+305 intercept:  8.88823951839033e+303 mse:  inf iteration:  520\n",
      "slope:  -inf intercept:  -3.423713703317342e+304 mse:  inf iteration:  521\n"
     ]
    },
    {
     "ename": "ValueError",
     "evalue": "Input contains NaN, infinity or a value too large for dtype('float64').",
     "output_type": "error",
     "traceback": [
      "\u001b[1;31m---------------------------------------------------------------------------\u001b[0m",
      "\u001b[1;31mValueError\u001b[0m                                Traceback (most recent call last)",
      "\u001b[1;32m<ipython-input-94-70096e7ca169>\u001b[0m in \u001b[0;36m<module>\u001b[1;34m\u001b[0m\n\u001b[1;32m----> 1\u001b[1;33m \u001b[0mgradient_descent\u001b[0m\u001b[1;33m(\u001b[0m\u001b[0mx\u001b[0m\u001b[1;33m,\u001b[0m\u001b[0my\u001b[0m\u001b[1;33m)\u001b[0m\u001b[1;33m\u001b[0m\u001b[1;33m\u001b[0m\u001b[0m\n\u001b[0m",
      "\u001b[1;32m<ipython-input-92-f3eed33b484b>\u001b[0m in \u001b[0;36mgradient_descent\u001b[1;34m(x, y)\u001b[0m\n\u001b[0;32m     11\u001b[0m         \u001b[0my_pred\u001b[0m \u001b[1;33m=\u001b[0m \u001b[0mx\u001b[0m\u001b[1;33m*\u001b[0m\u001b[0mslope\u001b[0m \u001b[1;33m+\u001b[0m \u001b[0mintercept\u001b[0m\u001b[1;33m\u001b[0m\u001b[1;33m\u001b[0m\u001b[0m\n\u001b[0;32m     12\u001b[0m \u001b[1;33m\u001b[0m\u001b[0m\n\u001b[1;32m---> 13\u001b[1;33m         \u001b[0mmse\u001b[0m \u001b[1;33m=\u001b[0m \u001b[0mmean_squared_error\u001b[0m\u001b[1;33m(\u001b[0m\u001b[0my_pred\u001b[0m\u001b[1;33m,\u001b[0m\u001b[0my\u001b[0m\u001b[1;33m)\u001b[0m\u001b[1;33m\u001b[0m\u001b[1;33m\u001b[0m\u001b[0m\n\u001b[0m\u001b[0;32m     14\u001b[0m \u001b[1;33m\u001b[0m\u001b[0m\n\u001b[0;32m     15\u001b[0m         \u001b[0mmd\u001b[0m \u001b[1;33m=\u001b[0m \u001b[1;33m(\u001b[0m\u001b[1;36m2\u001b[0m\u001b[1;33m/\u001b[0m\u001b[0mn\u001b[0m\u001b[1;33m)\u001b[0m\u001b[1;33m*\u001b[0m\u001b[0msum\u001b[0m\u001b[1;33m(\u001b[0m\u001b[0mx\u001b[0m\u001b[1;33m*\u001b[0m\u001b[1;33m(\u001b[0m\u001b[0my\u001b[0m\u001b[1;33m-\u001b[0m\u001b[0my_pred\u001b[0m\u001b[1;33m)\u001b[0m\u001b[1;33m)\u001b[0m\u001b[1;33m\u001b[0m\u001b[1;33m\u001b[0m\u001b[0m\n",
      "\u001b[1;32m~\\Anaconda3\\lib\\site-packages\\sklearn\\metrics\\regression.py\u001b[0m in \u001b[0;36mmean_squared_error\u001b[1;34m(y_true, y_pred, sample_weight, multioutput)\u001b[0m\n\u001b[0;32m    239\u001b[0m     \"\"\"\n\u001b[0;32m    240\u001b[0m     y_type, y_true, y_pred, multioutput = _check_reg_targets(\n\u001b[1;32m--> 241\u001b[1;33m         y_true, y_pred, multioutput)\n\u001b[0m\u001b[0;32m    242\u001b[0m     \u001b[0mcheck_consistent_length\u001b[0m\u001b[1;33m(\u001b[0m\u001b[0my_true\u001b[0m\u001b[1;33m,\u001b[0m \u001b[0my_pred\u001b[0m\u001b[1;33m,\u001b[0m \u001b[0msample_weight\u001b[0m\u001b[1;33m)\u001b[0m\u001b[1;33m\u001b[0m\u001b[1;33m\u001b[0m\u001b[0m\n\u001b[0;32m    243\u001b[0m     output_errors = np.average((y_true - y_pred) ** 2, axis=0,\n",
      "\u001b[1;32m~\\Anaconda3\\lib\\site-packages\\sklearn\\metrics\\regression.py\u001b[0m in \u001b[0;36m_check_reg_targets\u001b[1;34m(y_true, y_pred, multioutput)\u001b[0m\n\u001b[0;32m     76\u001b[0m     \"\"\"\n\u001b[0;32m     77\u001b[0m     \u001b[0mcheck_consistent_length\u001b[0m\u001b[1;33m(\u001b[0m\u001b[0my_true\u001b[0m\u001b[1;33m,\u001b[0m \u001b[0my_pred\u001b[0m\u001b[1;33m)\u001b[0m\u001b[1;33m\u001b[0m\u001b[1;33m\u001b[0m\u001b[0m\n\u001b[1;32m---> 78\u001b[1;33m     \u001b[0my_true\u001b[0m \u001b[1;33m=\u001b[0m \u001b[0mcheck_array\u001b[0m\u001b[1;33m(\u001b[0m\u001b[0my_true\u001b[0m\u001b[1;33m,\u001b[0m \u001b[0mensure_2d\u001b[0m\u001b[1;33m=\u001b[0m\u001b[1;32mFalse\u001b[0m\u001b[1;33m)\u001b[0m\u001b[1;33m\u001b[0m\u001b[1;33m\u001b[0m\u001b[0m\n\u001b[0m\u001b[0;32m     79\u001b[0m     \u001b[0my_pred\u001b[0m \u001b[1;33m=\u001b[0m \u001b[0mcheck_array\u001b[0m\u001b[1;33m(\u001b[0m\u001b[0my_pred\u001b[0m\u001b[1;33m,\u001b[0m \u001b[0mensure_2d\u001b[0m\u001b[1;33m=\u001b[0m\u001b[1;32mFalse\u001b[0m\u001b[1;33m)\u001b[0m\u001b[1;33m\u001b[0m\u001b[1;33m\u001b[0m\u001b[0m\n\u001b[0;32m     80\u001b[0m \u001b[1;33m\u001b[0m\u001b[0m\n",
      "\u001b[1;32m~\\Anaconda3\\lib\\site-packages\\sklearn\\utils\\validation.py\u001b[0m in \u001b[0;36mcheck_array\u001b[1;34m(array, accept_sparse, accept_large_sparse, dtype, order, copy, force_all_finite, ensure_2d, allow_nd, ensure_min_samples, ensure_min_features, warn_on_dtype, estimator)\u001b[0m\n\u001b[0;32m    540\u001b[0m         \u001b[1;32mif\u001b[0m \u001b[0mforce_all_finite\u001b[0m\u001b[1;33m:\u001b[0m\u001b[1;33m\u001b[0m\u001b[1;33m\u001b[0m\u001b[0m\n\u001b[0;32m    541\u001b[0m             _assert_all_finite(array,\n\u001b[1;32m--> 542\u001b[1;33m                                allow_nan=force_all_finite == 'allow-nan')\n\u001b[0m\u001b[0;32m    543\u001b[0m \u001b[1;33m\u001b[0m\u001b[0m\n\u001b[0;32m    544\u001b[0m     \u001b[1;32mif\u001b[0m \u001b[0mensure_min_samples\u001b[0m \u001b[1;33m>\u001b[0m \u001b[1;36m0\u001b[0m\u001b[1;33m:\u001b[0m\u001b[1;33m\u001b[0m\u001b[1;33m\u001b[0m\u001b[0m\n",
      "\u001b[1;32m~\\Anaconda3\\lib\\site-packages\\sklearn\\utils\\validation.py\u001b[0m in \u001b[0;36m_assert_all_finite\u001b[1;34m(X, allow_nan)\u001b[0m\n\u001b[0;32m     54\u001b[0m                 not allow_nan and not np.isfinite(X).all()):\n\u001b[0;32m     55\u001b[0m             \u001b[0mtype_err\u001b[0m \u001b[1;33m=\u001b[0m \u001b[1;34m'infinity'\u001b[0m \u001b[1;32mif\u001b[0m \u001b[0mallow_nan\u001b[0m \u001b[1;32melse\u001b[0m \u001b[1;34m'NaN, infinity'\u001b[0m\u001b[1;33m\u001b[0m\u001b[1;33m\u001b[0m\u001b[0m\n\u001b[1;32m---> 56\u001b[1;33m             \u001b[1;32mraise\u001b[0m \u001b[0mValueError\u001b[0m\u001b[1;33m(\u001b[0m\u001b[0mmsg_err\u001b[0m\u001b[1;33m.\u001b[0m\u001b[0mformat\u001b[0m\u001b[1;33m(\u001b[0m\u001b[0mtype_err\u001b[0m\u001b[1;33m,\u001b[0m \u001b[0mX\u001b[0m\u001b[1;33m.\u001b[0m\u001b[0mdtype\u001b[0m\u001b[1;33m)\u001b[0m\u001b[1;33m)\u001b[0m\u001b[1;33m\u001b[0m\u001b[1;33m\u001b[0m\u001b[0m\n\u001b[0m\u001b[0;32m     57\u001b[0m     \u001b[1;31m# for object dtype data, we only check for NaNs (GH-13254)\u001b[0m\u001b[1;33m\u001b[0m\u001b[1;33m\u001b[0m\u001b[1;33m\u001b[0m\u001b[0m\n\u001b[0;32m     58\u001b[0m     \u001b[1;32melif\u001b[0m \u001b[0mX\u001b[0m\u001b[1;33m.\u001b[0m\u001b[0mdtype\u001b[0m \u001b[1;33m==\u001b[0m \u001b[0mnp\u001b[0m\u001b[1;33m.\u001b[0m\u001b[0mdtype\u001b[0m\u001b[1;33m(\u001b[0m\u001b[1;34m'object'\u001b[0m\u001b[1;33m)\u001b[0m \u001b[1;32mand\u001b[0m \u001b[1;32mnot\u001b[0m \u001b[0mallow_nan\u001b[0m\u001b[1;33m:\u001b[0m\u001b[1;33m\u001b[0m\u001b[1;33m\u001b[0m\u001b[0m\n",
      "\u001b[1;31mValueError\u001b[0m: Input contains NaN, infinity or a value too large for dtype('float64')."
     ]
    }
   ],
   "source": [
    "gradient_descent(x,y)"
   ]
  }
 ],
 "metadata": {
  "kernelspec": {
   "display_name": "Python 3",
   "language": "python",
   "name": "python3"
  },
  "language_info": {
   "codemirror_mode": {
    "name": "ipython",
    "version": 3
   },
   "file_extension": ".py",
   "mimetype": "text/x-python",
   "name": "python",
   "nbconvert_exporter": "python",
   "pygments_lexer": "ipython3",
   "version": "3.7.1"
  }
 },
 "nbformat": 4,
 "nbformat_minor": 2
}
